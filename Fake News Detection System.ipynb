{
 "cells": [
  {
   "cell_type": "markdown",
   "metadata": {},
   "source": [
    "#### Table of Contents\n",
    "\n",
    "1.   [Install Necessary Packages](#install)\n",
    "2.   [Exploring Fake News](#fake)\n",
    "3.   [Exploring Real News](#real)\n",
    "4.   [Difference between Real and Fake News](#diff)\n",
    "5.   [Real News Author Extraction](#author_real)\n",
    "6.   [Mix Title and Text Column](#mix)\n",
    "7.   [Splitting Data](#split)\n",
    "8.   [Data Cleaning](#clean)\n",
    "9.   [Word2Vectors Creation](#word2vec)\n",
    "10.  [Model Creation](#model)\n",
    "11.  [Load and Evaluate Model](#load_model)\n",
    "12.  [Predicting New Data](#pred)"
   ]
  },
  {
   "cell_type": "markdown",
   "metadata": {},
   "source": [
    "<a id=\"install\"></a>\n",
    "### Install Necessary Packages"
   ]
  },
  {
   "cell_type": "code",
   "execution_count": 2,
   "metadata": {
    "colab": {
     "base_uri": "https://localhost:8080/",
     "height": 1000
    },
    "executionInfo": {
     "elapsed": 123710,
     "status": "ok",
     "timestamp": 1627738882567,
     "user": {
      "displayName": "Nella Kartheek",
      "photoUrl": "https://lh3.googleusercontent.com/a-/AOh14Gh5xJtK0npI1YA_guyIgSHCGwXFsMpmhWibCf7f=s64",
      "userId": "12980961804103110882"
     },
     "user_tz": -330
    },
    "id": "zhBN-6hU65DP",
    "outputId": "4795accf-5363-4813-c653-032f7bab7563"
   },
   "outputs": [
    {
     "name": "stdout",
     "output_type": "stream",
     "text": [
      "Collecting gensim==4.0.1\n",
      "  Downloading gensim-4.0.1-cp37-cp37m-manylinux1_x86_64.whl (23.9 MB)\n",
      "\u001b[K     |████████████████████████████████| 23.9 MB 95 kB/s \n",
      "\u001b[?25hCollecting numpy==1.19.2\n",
      "  Downloading numpy-1.19.2-cp37-cp37m-manylinux2010_x86_64.whl (14.5 MB)\n",
      "\u001b[K     |████████████████████████████████| 14.5 MB 31 kB/s \n",
      "\u001b[?25hCollecting matplotlib==3.2.1\n",
      "  Downloading matplotlib-3.2.1-cp37-cp37m-manylinux1_x86_64.whl (12.4 MB)\n",
      "\u001b[K     |████████████████████████████████| 12.4 MB 198 kB/s \n",
      "\u001b[?25hCollecting pandas==1.1.2\n",
      "  Downloading pandas-1.1.2-cp37-cp37m-manylinux1_x86_64.whl (10.5 MB)\n",
      "\u001b[K     |████████████████████████████████| 10.5 MB 37.0 MB/s \n",
      "\u001b[?25hCollecting regex==2020.6.8\n",
      "  Downloading regex-2020.6.8-cp37-cp37m-manylinux2010_x86_64.whl (661 kB)\n",
      "\u001b[K     |████████████████████████████████| 661 kB 52.1 MB/s \n",
      "\u001b[?25hCollecting scikit-learn==0.21.3\n",
      "  Downloading scikit_learn-0.21.3-cp37-cp37m-manylinux1_x86_64.whl (6.7 MB)\n",
      "\u001b[K     |████████████████████████████████| 6.7 MB 29.0 MB/s \n",
      "\u001b[?25hRequirement already satisfied: scipy==1.4.1 in /usr/local/lib/python3.7/dist-packages (from -r requirements.txt (line 7)) (1.4.1)\n",
      "Collecting seaborn==0.10.1\n",
      "  Downloading seaborn-0.10.1-py3-none-any.whl (215 kB)\n",
      "\u001b[K     |████████████████████████████████| 215 kB 74.5 MB/s \n",
      "\u001b[?25hCollecting tensorflow==2.2.0\n",
      "  Downloading tensorflow-2.2.0-cp37-cp37m-manylinux2010_x86_64.whl (516.2 MB)\n",
      "\u001b[K     |████████████████████████████████| 516.2 MB 4.5 kB/s \n",
      "\u001b[33mWARNING: Retrying (Retry(total=4, connect=None, read=None, redirect=None, status=None)) after connection broken by 'ProtocolError('Connection aborted.', ConnectionResetError(104, 'Connection reset by peer'))': /simple/contractions/\u001b[0m\n",
      "\u001b[?25hCollecting contractions==0.0.52\n",
      "  Downloading contractions-0.0.52-py2.py3-none-any.whl (7.2 kB)\n",
      "Collecting beautifulsoup4==4.9.1\n",
      "  Downloading beautifulsoup4-4.9.1-py3-none-any.whl (115 kB)\n",
      "\u001b[K     |████████████████████████████████| 115 kB 67.5 MB/s \n",
      "\u001b[?25hCollecting wordcloud==1.7.0\n",
      "  Downloading wordcloud-1.7.0-cp37-cp37m-manylinux1_x86_64.whl (364 kB)\n",
      "\u001b[K     |████████████████████████████████| 364 kB 77.4 MB/s \n",
      "\u001b[?25hRequirement already satisfied: smart-open>=1.8.1 in /usr/local/lib/python3.7/dist-packages (from gensim==4.0.1->-r requirements.txt (line 1)) (5.1.0)\n",
      "Requirement already satisfied: pyparsing!=2.0.4,!=2.1.2,!=2.1.6,>=2.0.1 in /usr/local/lib/python3.7/dist-packages (from matplotlib==3.2.1->-r requirements.txt (line 3)) (2.4.7)\n",
      "Requirement already satisfied: cycler>=0.10 in /usr/local/lib/python3.7/dist-packages (from matplotlib==3.2.1->-r requirements.txt (line 3)) (0.10.0)\n",
      "Requirement already satisfied: kiwisolver>=1.0.1 in /usr/local/lib/python3.7/dist-packages (from matplotlib==3.2.1->-r requirements.txt (line 3)) (1.3.1)\n",
      "Requirement already satisfied: python-dateutil>=2.1 in /usr/local/lib/python3.7/dist-packages (from matplotlib==3.2.1->-r requirements.txt (line 3)) (2.8.1)\n",
      "Requirement already satisfied: pytz>=2017.2 in /usr/local/lib/python3.7/dist-packages (from pandas==1.1.2->-r requirements.txt (line 4)) (2018.9)\n",
      "Requirement already satisfied: joblib>=0.11 in /usr/local/lib/python3.7/dist-packages (from scikit-learn==0.21.3->-r requirements.txt (line 6)) (1.0.1)\n",
      "Requirement already satisfied: opt-einsum>=2.3.2 in /usr/local/lib/python3.7/dist-packages (from tensorflow==2.2.0->-r requirements.txt (line 9)) (3.3.0)\n",
      "Requirement already satisfied: google-pasta>=0.1.8 in /usr/local/lib/python3.7/dist-packages (from tensorflow==2.2.0->-r requirements.txt (line 9)) (0.2.0)\n",
      "Collecting tensorflow-estimator<2.3.0,>=2.2.0\n",
      "  Downloading tensorflow_estimator-2.2.0-py2.py3-none-any.whl (454 kB)\n",
      "\u001b[K     |████████████████████████████████| 454 kB 62.5 MB/s \n",
      "\u001b[?25hRequirement already satisfied: grpcio>=1.8.6 in /usr/local/lib/python3.7/dist-packages (from tensorflow==2.2.0->-r requirements.txt (line 9)) (1.34.1)\n",
      "Requirement already satisfied: astunparse==1.6.3 in /usr/local/lib/python3.7/dist-packages (from tensorflow==2.2.0->-r requirements.txt (line 9)) (1.6.3)\n",
      "Requirement already satisfied: wrapt>=1.11.1 in /usr/local/lib/python3.7/dist-packages (from tensorflow==2.2.0->-r requirements.txt (line 9)) (1.12.1)\n",
      "Collecting gast==0.3.3\n",
      "  Downloading gast-0.3.3-py2.py3-none-any.whl (9.7 kB)\n",
      "Requirement already satisfied: keras-preprocessing>=1.1.0 in /usr/local/lib/python3.7/dist-packages (from tensorflow==2.2.0->-r requirements.txt (line 9)) (1.1.2)\n",
      "Requirement already satisfied: six>=1.12.0 in /usr/local/lib/python3.7/dist-packages (from tensorflow==2.2.0->-r requirements.txt (line 9)) (1.15.0)\n",
      "Requirement already satisfied: protobuf>=3.8.0 in /usr/local/lib/python3.7/dist-packages (from tensorflow==2.2.0->-r requirements.txt (line 9)) (3.17.3)\n",
      "Requirement already satisfied: termcolor>=1.1.0 in /usr/local/lib/python3.7/dist-packages (from tensorflow==2.2.0->-r requirements.txt (line 9)) (1.1.0)\n",
      "Collecting tensorboard<2.3.0,>=2.2.0\n",
      "  Downloading tensorboard-2.2.2-py3-none-any.whl (3.0 MB)\n",
      "\u001b[K     |████████████████████████████████| 3.0 MB 57.8 MB/s \n",
      "\u001b[?25hRequirement already satisfied: absl-py>=0.7.0 in /usr/local/lib/python3.7/dist-packages (from tensorflow==2.2.0->-r requirements.txt (line 9)) (0.12.0)\n",
      "Requirement already satisfied: wheel>=0.26 in /usr/local/lib/python3.7/dist-packages (from tensorflow==2.2.0->-r requirements.txt (line 9)) (0.36.2)\n",
      "Collecting h5py<2.11.0,>=2.10.0\n",
      "  Downloading h5py-2.10.0-cp37-cp37m-manylinux1_x86_64.whl (2.9 MB)\n",
      "\u001b[K     |████████████████████████████████| 2.9 MB 12.8 MB/s \n",
      "\u001b[?25hCollecting textsearch>=0.0.21\n",
      "  Downloading textsearch-0.0.21-py2.py3-none-any.whl (7.5 kB)\n",
      "Collecting soupsieve>1.2\n",
      "  Downloading soupsieve-2.2.1-py3-none-any.whl (33 kB)\n",
      "Requirement already satisfied: pillow in /usr/local/lib/python3.7/dist-packages (from wordcloud==1.7.0->-r requirements.txt (line 12)) (7.1.2)\n",
      "Requirement already satisfied: requests<3,>=2.21.0 in /usr/local/lib/python3.7/dist-packages (from tensorboard<2.3.0,>=2.2.0->tensorflow==2.2.0->-r requirements.txt (line 9)) (2.23.0)\n",
      "Requirement already satisfied: google-auth<2,>=1.6.3 in /usr/local/lib/python3.7/dist-packages (from tensorboard<2.3.0,>=2.2.0->tensorflow==2.2.0->-r requirements.txt (line 9)) (1.32.1)\n",
      "Requirement already satisfied: tensorboard-plugin-wit>=1.6.0 in /usr/local/lib/python3.7/dist-packages (from tensorboard<2.3.0,>=2.2.0->tensorflow==2.2.0->-r requirements.txt (line 9)) (1.8.0)\n",
      "Requirement already satisfied: markdown>=2.6.8 in /usr/local/lib/python3.7/dist-packages (from tensorboard<2.3.0,>=2.2.0->tensorflow==2.2.0->-r requirements.txt (line 9)) (3.3.4)\n",
      "Requirement already satisfied: werkzeug>=0.11.15 in /usr/local/lib/python3.7/dist-packages (from tensorboard<2.3.0,>=2.2.0->tensorflow==2.2.0->-r requirements.txt (line 9)) (1.0.1)\n",
      "Requirement already satisfied: setuptools>=41.0.0 in /usr/local/lib/python3.7/dist-packages (from tensorboard<2.3.0,>=2.2.0->tensorflow==2.2.0->-r requirements.txt (line 9)) (57.2.0)\n",
      "Requirement already satisfied: google-auth-oauthlib<0.5,>=0.4.1 in /usr/local/lib/python3.7/dist-packages (from tensorboard<2.3.0,>=2.2.0->tensorflow==2.2.0->-r requirements.txt (line 9)) (0.4.4)\n",
      "Requirement already satisfied: cachetools<5.0,>=2.0.0 in /usr/local/lib/python3.7/dist-packages (from google-auth<2,>=1.6.3->tensorboard<2.3.0,>=2.2.0->tensorflow==2.2.0->-r requirements.txt (line 9)) (4.2.2)\n",
      "Requirement already satisfied: rsa<5,>=3.1.4 in /usr/local/lib/python3.7/dist-packages (from google-auth<2,>=1.6.3->tensorboard<2.3.0,>=2.2.0->tensorflow==2.2.0->-r requirements.txt (line 9)) (4.7.2)\n",
      "Requirement already satisfied: pyasn1-modules>=0.2.1 in /usr/local/lib/python3.7/dist-packages (from google-auth<2,>=1.6.3->tensorboard<2.3.0,>=2.2.0->tensorflow==2.2.0->-r requirements.txt (line 9)) (0.2.8)\n",
      "Requirement already satisfied: requests-oauthlib>=0.7.0 in /usr/local/lib/python3.7/dist-packages (from google-auth-oauthlib<0.5,>=0.4.1->tensorboard<2.3.0,>=2.2.0->tensorflow==2.2.0->-r requirements.txt (line 9)) (1.3.0)\n",
      "Requirement already satisfied: importlib-metadata in /usr/local/lib/python3.7/dist-packages (from markdown>=2.6.8->tensorboard<2.3.0,>=2.2.0->tensorflow==2.2.0->-r requirements.txt (line 9)) (4.6.1)\n",
      "Requirement already satisfied: pyasn1<0.5.0,>=0.4.6 in /usr/local/lib/python3.7/dist-packages (from pyasn1-modules>=0.2.1->google-auth<2,>=1.6.3->tensorboard<2.3.0,>=2.2.0->tensorflow==2.2.0->-r requirements.txt (line 9)) (0.4.8)\n",
      "Requirement already satisfied: idna<3,>=2.5 in /usr/local/lib/python3.7/dist-packages (from requests<3,>=2.21.0->tensorboard<2.3.0,>=2.2.0->tensorflow==2.2.0->-r requirements.txt (line 9)) (2.10)\n",
      "Requirement already satisfied: chardet<4,>=3.0.2 in /usr/local/lib/python3.7/dist-packages (from requests<3,>=2.21.0->tensorboard<2.3.0,>=2.2.0->tensorflow==2.2.0->-r requirements.txt (line 9)) (3.0.4)\n",
      "Requirement already satisfied: urllib3!=1.25.0,!=1.25.1,<1.26,>=1.21.1 in /usr/local/lib/python3.7/dist-packages (from requests<3,>=2.21.0->tensorboard<2.3.0,>=2.2.0->tensorflow==2.2.0->-r requirements.txt (line 9)) (1.24.3)\n",
      "Requirement already satisfied: certifi>=2017.4.17 in /usr/local/lib/python3.7/dist-packages (from requests<3,>=2.21.0->tensorboard<2.3.0,>=2.2.0->tensorflow==2.2.0->-r requirements.txt (line 9)) (2021.5.30)\n",
      "Requirement already satisfied: oauthlib>=3.0.0 in /usr/local/lib/python3.7/dist-packages (from requests-oauthlib>=0.7.0->google-auth-oauthlib<0.5,>=0.4.1->tensorboard<2.3.0,>=2.2.0->tensorflow==2.2.0->-r requirements.txt (line 9)) (3.1.1)\n",
      "Collecting pyahocorasick\n",
      "  Downloading pyahocorasick-1.4.2.tar.gz (321 kB)\n",
      "\u001b[K     |████████████████████████████████| 321 kB 74.2 MB/s \n",
      "\u001b[?25hCollecting anyascii\n",
      "  Downloading anyascii-0.2.0-py3-none-any.whl (283 kB)\n",
      "\u001b[K     |████████████████████████████████| 283 kB 66.4 MB/s \n",
      "\u001b[?25hRequirement already satisfied: zipp>=0.5 in /usr/local/lib/python3.7/dist-packages (from importlib-metadata->markdown>=2.6.8->tensorboard<2.3.0,>=2.2.0->tensorflow==2.2.0->-r requirements.txt (line 9)) (3.5.0)\n",
      "Requirement already satisfied: typing-extensions>=3.6.4 in /usr/local/lib/python3.7/dist-packages (from importlib-metadata->markdown>=2.6.8->tensorboard<2.3.0,>=2.2.0->tensorflow==2.2.0->-r requirements.txt (line 9)) (3.7.4.3)\n",
      "Building wheels for collected packages: pyahocorasick\n",
      "  Building wheel for pyahocorasick (setup.py) ... \u001b[?25l\u001b[?25hdone\n",
      "  Created wheel for pyahocorasick: filename=pyahocorasick-1.4.2-cp37-cp37m-linux_x86_64.whl size=85449 sha256=663e9e4ea5a43e93528ce8e08b8f5ce54947f507179bdced4aa05b62413529be\n",
      "  Stored in directory: /root/.cache/pip/wheels/25/19/a6/8f363d9939162782bb8439d886469756271abc01f76fbd790f\n",
      "Successfully built pyahocorasick\n",
      "Installing collected packages: pyahocorasick, numpy, anyascii, textsearch, tensorflow-estimator, tensorboard, soupsieve, pandas, matplotlib, h5py, gast, wordcloud, tensorflow, seaborn, scikit-learn, regex, gensim, contractions, beautifulsoup4\n",
      "  Attempting uninstall: numpy\n",
      "    Found existing installation: numpy 1.19.5\n",
      "    Uninstalling numpy-1.19.5:\n",
      "      Successfully uninstalled numpy-1.19.5\n",
      "  Attempting uninstall: tensorflow-estimator\n",
      "    Found existing installation: tensorflow-estimator 2.5.0\n",
      "    Uninstalling tensorflow-estimator-2.5.0:\n",
      "      Successfully uninstalled tensorflow-estimator-2.5.0\n",
      "  Attempting uninstall: tensorboard\n",
      "    Found existing installation: tensorboard 2.5.0\n",
      "    Uninstalling tensorboard-2.5.0:\n",
      "      Successfully uninstalled tensorboard-2.5.0\n",
      "  Attempting uninstall: pandas\n",
      "    Found existing installation: pandas 1.1.5\n",
      "    Uninstalling pandas-1.1.5:\n",
      "      Successfully uninstalled pandas-1.1.5\n",
      "  Attempting uninstall: matplotlib\n",
      "    Found existing installation: matplotlib 3.2.2\n",
      "    Uninstalling matplotlib-3.2.2:\n",
      "      Successfully uninstalled matplotlib-3.2.2\n",
      "  Attempting uninstall: h5py\n",
      "    Found existing installation: h5py 3.1.0\n",
      "    Uninstalling h5py-3.1.0:\n",
      "      Successfully uninstalled h5py-3.1.0\n",
      "  Attempting uninstall: gast\n",
      "    Found existing installation: gast 0.4.0\n",
      "    Uninstalling gast-0.4.0:\n",
      "      Successfully uninstalled gast-0.4.0\n",
      "  Attempting uninstall: wordcloud\n",
      "    Found existing installation: wordcloud 1.5.0\n",
      "    Uninstalling wordcloud-1.5.0:\n",
      "      Successfully uninstalled wordcloud-1.5.0\n",
      "  Attempting uninstall: tensorflow\n",
      "    Found existing installation: tensorflow 2.5.0\n",
      "    Uninstalling tensorflow-2.5.0:\n",
      "      Successfully uninstalled tensorflow-2.5.0\n",
      "  Attempting uninstall: seaborn\n",
      "    Found existing installation: seaborn 0.11.1\n",
      "    Uninstalling seaborn-0.11.1:\n",
      "      Successfully uninstalled seaborn-0.11.1\n",
      "  Attempting uninstall: scikit-learn\n",
      "    Found existing installation: scikit-learn 0.22.2.post1\n",
      "    Uninstalling scikit-learn-0.22.2.post1:\n",
      "      Successfully uninstalled scikit-learn-0.22.2.post1\n",
      "  Attempting uninstall: regex\n",
      "    Found existing installation: regex 2019.12.20\n",
      "    Uninstalling regex-2019.12.20:\n",
      "      Successfully uninstalled regex-2019.12.20\n",
      "  Attempting uninstall: gensim\n",
      "    Found existing installation: gensim 3.6.0\n",
      "    Uninstalling gensim-3.6.0:\n",
      "      Successfully uninstalled gensim-3.6.0\n",
      "  Attempting uninstall: beautifulsoup4\n",
      "    Found existing installation: beautifulsoup4 4.6.3\n",
      "    Uninstalling beautifulsoup4-4.6.3:\n",
      "      Successfully uninstalled beautifulsoup4-4.6.3\n",
      "\u001b[31mERROR: pip's dependency resolver does not currently take into account all the packages that are installed. This behaviour is the source of the following dependency conflicts.\n",
      "datascience 0.10.6 requires folium==0.2.1, but you have folium 0.8.3 which is incompatible.\n",
      "albumentations 0.1.12 requires imgaug<0.2.7,>=0.2.5, but you have imgaug 0.2.9 which is incompatible.\u001b[0m\n",
      "Successfully installed anyascii-0.2.0 beautifulsoup4-4.9.1 contractions-0.0.52 gast-0.3.3 gensim-4.0.1 h5py-2.10.0 matplotlib-3.2.1 numpy-1.19.2 pandas-1.1.2 pyahocorasick-1.4.2 regex-2020.6.8 scikit-learn-0.21.3 seaborn-0.10.1 soupsieve-2.2.1 tensorboard-2.2.2 tensorflow-2.2.0 tensorflow-estimator-2.2.0 textsearch-0.0.21 wordcloud-1.7.0\n"
     ]
    },
    {
     "data": {
      "application/vnd.colab-display-data+json": {
       "pip_warning": {
        "packages": [
         "gast",
         "h5py",
         "matplotlib",
         "mpl_toolkits",
         "numpy",
         "pandas",
         "tensorboard",
         "tensorflow"
        ]
       }
      }
     },
     "metadata": {
      "tags": []
     },
     "output_type": "display_data"
    }
   ],
   "source": [
    "!pip install -r requirements.txt"
   ]
  },
  {
   "cell_type": "code",
   "execution_count": 1,
   "metadata": {
    "colab": {
     "base_uri": "https://localhost:8080/"
    },
    "executionInfo": {
     "elapsed": 1021,
     "status": "ok",
     "timestamp": 1627739052023,
     "user": {
      "displayName": "Nella Kartheek",
      "photoUrl": "https://lh3.googleusercontent.com/a-/AOh14Gh5xJtK0npI1YA_guyIgSHCGwXFsMpmhWibCf7f=s64",
      "userId": "12980961804103110882"
     },
     "user_tz": -330
    },
    "id": "zUMUZLoo8V3M",
    "outputId": "f05acd74-81e7-4534-96df-9b7cdbc72111"
   },
   "outputs": [
    {
     "name": "stdout",
     "output_type": "stream",
     "text": [
      "2.2.0\n"
     ]
    }
   ],
   "source": [
    "import tensorflow as tf\n",
    "print(tf.__version__)"
   ]
  },
  {
   "cell_type": "code",
   "execution_count": 2,
   "metadata": {
    "colab": {
     "base_uri": "https://localhost:8080/"
    },
    "executionInfo": {
     "elapsed": 631,
     "status": "ok",
     "timestamp": 1627739094029,
     "user": {
      "displayName": "Nella Kartheek",
      "photoUrl": "https://lh3.googleusercontent.com/a-/AOh14Gh5xJtK0npI1YA_guyIgSHCGwXFsMpmhWibCf7f=s64",
      "userId": "12980961804103110882"
     },
     "user_tz": -330
    },
    "id": "yLBi07sl65DR",
    "outputId": "d4655f30-dcae-420d-ff0e-6aba96e4355c"
   },
   "outputs": [
    {
     "name": "stderr",
     "output_type": "stream",
     "text": [
      "/usr/local/lib/python3.7/dist-packages/statsmodels/tools/_testing.py:19: FutureWarning: pandas.util.testing is deprecated. Use the functions in the public API at pandas.testing instead.\n",
      "  import pandas.util.testing as tm\n"
     ]
    }
   ],
   "source": [
    "%matplotlib inline\n",
    "import matplotlib.pyplot as plt\n",
    "import seaborn as sns\n",
    "import pandas as pd\n",
    "import numpy as np"
   ]
  },
  {
   "cell_type": "markdown",
   "metadata": {
    "id": "poec3Txd65DS"
   },
   "source": [
    "<a id=\"fake\"></a>\n",
    "### Exploring Fake News"
   ]
  },
  {
   "cell_type": "code",
   "execution_count": 3,
   "metadata": {
    "colab": {
     "base_uri": "https://localhost:8080/",
     "height": 204
    },
    "executionInfo": {
     "elapsed": 4035,
     "status": "ok",
     "timestamp": 1627739104427,
     "user": {
      "displayName": "Nella Kartheek",
      "photoUrl": "https://lh3.googleusercontent.com/a-/AOh14Gh5xJtK0npI1YA_guyIgSHCGwXFsMpmhWibCf7f=s64",
      "userId": "12980961804103110882"
     },
     "user_tz": -330
    },
    "id": "hxwZjte-65DT",
    "outputId": "69a6f504-beb7-4627-c322-4cd9e7128af2"
   },
   "outputs": [
    {
     "data": {
      "text/html": [
       "<div>\n",
       "<style scoped>\n",
       "    .dataframe tbody tr th:only-of-type {\n",
       "        vertical-align: middle;\n",
       "    }\n",
       "\n",
       "    .dataframe tbody tr th {\n",
       "        vertical-align: top;\n",
       "    }\n",
       "\n",
       "    .dataframe thead th {\n",
       "        text-align: right;\n",
       "    }\n",
       "</style>\n",
       "<table border=\"1\" class=\"dataframe\">\n",
       "  <thead>\n",
       "    <tr style=\"text-align: right;\">\n",
       "      <th></th>\n",
       "      <th>title</th>\n",
       "      <th>text</th>\n",
       "      <th>subject</th>\n",
       "      <th>date</th>\n",
       "    </tr>\n",
       "  </thead>\n",
       "  <tbody>\n",
       "    <tr>\n",
       "      <th>0</th>\n",
       "      <td>Donald Trump Sends Out Embarrassing New Year’...</td>\n",
       "      <td>Donald Trump just couldn t wish all Americans ...</td>\n",
       "      <td>News</td>\n",
       "      <td>December 31, 2017</td>\n",
       "    </tr>\n",
       "    <tr>\n",
       "      <th>1</th>\n",
       "      <td>Drunk Bragging Trump Staffer Started Russian ...</td>\n",
       "      <td>House Intelligence Committee Chairman Devin Nu...</td>\n",
       "      <td>News</td>\n",
       "      <td>December 31, 2017</td>\n",
       "    </tr>\n",
       "    <tr>\n",
       "      <th>2</th>\n",
       "      <td>Sheriff David Clarke Becomes An Internet Joke...</td>\n",
       "      <td>On Friday, it was revealed that former Milwauk...</td>\n",
       "      <td>News</td>\n",
       "      <td>December 30, 2017</td>\n",
       "    </tr>\n",
       "    <tr>\n",
       "      <th>3</th>\n",
       "      <td>Trump Is So Obsessed He Even Has Obama’s Name...</td>\n",
       "      <td>On Christmas day, Donald Trump announced that ...</td>\n",
       "      <td>News</td>\n",
       "      <td>December 29, 2017</td>\n",
       "    </tr>\n",
       "    <tr>\n",
       "      <th>4</th>\n",
       "      <td>Pope Francis Just Called Out Donald Trump Dur...</td>\n",
       "      <td>Pope Francis used his annual Christmas Day mes...</td>\n",
       "      <td>News</td>\n",
       "      <td>December 25, 2017</td>\n",
       "    </tr>\n",
       "  </tbody>\n",
       "</table>\n",
       "</div>"
      ],
      "text/plain": [
       "                                               title  ...               date\n",
       "0   Donald Trump Sends Out Embarrassing New Year’...  ...  December 31, 2017\n",
       "1   Drunk Bragging Trump Staffer Started Russian ...  ...  December 31, 2017\n",
       "2   Sheriff David Clarke Becomes An Internet Joke...  ...  December 30, 2017\n",
       "3   Trump Is So Obsessed He Even Has Obama’s Name...  ...  December 29, 2017\n",
       "4   Pope Francis Just Called Out Donald Trump Dur...  ...  December 25, 2017\n",
       "\n",
       "[5 rows x 4 columns]"
      ]
     },
     "execution_count": 3,
     "metadata": {
      "tags": []
     },
     "output_type": "execute_result"
    }
   ],
   "source": [
    "fake_df = pd.read_csv('https://raw.githubusercontent.com/AI-kartheek/AI-Fake-News-Detection-System/main/datasets/Fake.csv')\n",
    "fake_df.head()"
   ]
  },
  {
   "cell_type": "code",
   "execution_count": null,
   "metadata": {
    "colab": {
     "base_uri": "https://localhost:8080/"
    },
    "executionInfo": {
     "elapsed": 5,
     "status": "ok",
     "timestamp": 1627658146149,
     "user": {
      "displayName": "Nella Kartheek",
      "photoUrl": "https://lh3.googleusercontent.com/a-/AOh14Gh5xJtK0npI1YA_guyIgSHCGwXFsMpmhWibCf7f=s64",
      "userId": "12980961804103110882"
     },
     "user_tz": -330
    },
    "id": "u0mV4MCL65DU",
    "outputId": "4ee5d936-2c07-42c0-a9c2-30ba1b4f9426"
   },
   "outputs": [
    {
     "data": {
      "text/plain": [
       "(23481, 4)"
      ]
     },
     "execution_count": 4,
     "metadata": {
      "tags": []
     },
     "output_type": "execute_result"
    }
   ],
   "source": [
    "fake_df.shape"
   ]
  },
  {
   "cell_type": "code",
   "execution_count": null,
   "metadata": {
    "colab": {
     "base_uri": "https://localhost:8080/"
    },
    "executionInfo": {
     "elapsed": 415,
     "status": "ok",
     "timestamp": 1627658150452,
     "user": {
      "displayName": "Nella Kartheek",
      "photoUrl": "https://lh3.googleusercontent.com/a-/AOh14Gh5xJtK0npI1YA_guyIgSHCGwXFsMpmhWibCf7f=s64",
      "userId": "12980961804103110882"
     },
     "user_tz": -330
    },
    "id": "pbrPEMLf65DU",
    "outputId": "abf58bcd-204d-4740-e6c4-f1fc9eb43ee3"
   },
   "outputs": [
    {
     "data": {
      "text/plain": [
       "title      0\n",
       "text       0\n",
       "subject    0\n",
       "date       0\n",
       "dtype: int64"
      ]
     },
     "execution_count": 5,
     "metadata": {
      "tags": []
     },
     "output_type": "execute_result"
    }
   ],
   "source": [
    "fake_df.isna().sum()"
   ]
  },
  {
   "cell_type": "code",
   "execution_count": null,
   "metadata": {
    "id": "pi0GxHVC65DU",
    "outputId": "4e838df4-c68d-4000-8c78-d404d9f693c1"
   },
   "outputs": [
    {
     "data": {
      "image/png": "[encoded data removed]",
      "text/plain": [
       "<Figure size 720x432 with 1 Axes>"
      ]
     },
     "metadata": {
      "tags": []
     },
     "output_type": "display_data"
    }
   ],
   "source": [
    "plt.figure(figsize=(10, 6))\n",
    "plt.style.use('ggplot')\n",
    "sns.countplot(x='subject', data=fake_df)\n",
    "plt.title('Fake News')\n",
    "plt.xlabel('News Type')\n",
    "plt.show()"
   ]
  },
  {
   "cell_type": "code",
   "execution_count": null,
   "metadata": {
    "id": "j5o0dr0765DV"
   },
   "outputs": [],
   "source": [
    "from wordcloud import WordCloud"
   ]
  },
  {
   "cell_type": "code",
   "execution_count": null,
   "metadata": {
    "id": "gIBerd3R65DV"
   },
   "outputs": [],
   "source": [
    "text = \" \".join(fake_df.text.tolist())"
   ]
  },
  {
   "cell_type": "code",
   "execution_count": null,
   "metadata": {
    "id": "0iFCmg0S65DV",
    "outputId": "7aeccb05-ff19-4778-eb1a-920934205ccc"
   },
   "outputs": [
    {
     "data": {
      "image/png": "[encoded data removed]",
      "text/plain": [
       "<Figure size 720x720 with 1 Axes>"
      ]
     },
     "metadata": {
      "tags": []
     },
     "output_type": "display_data"
    }
   ],
   "source": [
    "wordcloud = WordCloud(width=1920, height=1080).generate(text)\n",
    "\n",
    "plt.figure(figsize=(10, 10))\n",
    "plt.imshow(wordcloud)\n",
    "plt.axis('off') \n",
    "plt.show()"
   ]
  },
  {
   "cell_type": "markdown",
   "metadata": {
    "id": "kptTDOxl65DW"
   },
   "source": [
    "<a id=\"real\"></a>\n",
    "### Exploring Real News"
   ]
  },
  {
   "cell_type": "code",
   "execution_count": 4,
   "metadata": {
    "colab": {
     "base_uri": "https://localhost:8080/",
     "height": 204
    },
    "executionInfo": {
     "elapsed": 3846,
     "status": "ok",
     "timestamp": 1627739117757,
     "user": {
      "displayName": "Nella Kartheek",
      "photoUrl": "https://lh3.googleusercontent.com/a-/AOh14Gh5xJtK0npI1YA_guyIgSHCGwXFsMpmhWibCf7f=s64",
      "userId": "12980961804103110882"
     },
     "user_tz": -330
    },
    "id": "mv6L__nU65DW",
    "outputId": "58d3b799-97a3-4ad6-c632-acd6788371a2"
   },
   "outputs": [
    {
     "data": {
      "text/html": [
       "<div>\n",
       "<style scoped>\n",
       "    .dataframe tbody tr th:only-of-type {\n",
       "        vertical-align: middle;\n",
       "    }\n",
       "\n",
       "    .dataframe tbody tr th {\n",
       "        vertical-align: top;\n",
       "    }\n",
       "\n",
       "    .dataframe thead th {\n",
       "        text-align: right;\n",
       "    }\n",
       "</style>\n",
       "<table border=\"1\" class=\"dataframe\">\n",
       "  <thead>\n",
       "    <tr style=\"text-align: right;\">\n",
       "      <th></th>\n",
       "      <th>title</th>\n",
       "      <th>text</th>\n",
       "      <th>subject</th>\n",
       "      <th>date</th>\n",
       "    </tr>\n",
       "  </thead>\n",
       "  <tbody>\n",
       "    <tr>\n",
       "      <th>0</th>\n",
       "      <td>As U.S. budget fight looms, Republicans flip t...</td>\n",
       "      <td>WASHINGTON (Reuters) - The head of a conservat...</td>\n",
       "      <td>politicsNews</td>\n",
       "      <td>December 31, 2017</td>\n",
       "    </tr>\n",
       "    <tr>\n",
       "      <th>1</th>\n",
       "      <td>U.S. military to accept transgender recruits o...</td>\n",
       "      <td>WASHINGTON (Reuters) - Transgender people will...</td>\n",
       "      <td>politicsNews</td>\n",
       "      <td>December 29, 2017</td>\n",
       "    </tr>\n",
       "    <tr>\n",
       "      <th>2</th>\n",
       "      <td>Senior U.S. Republican senator: 'Let Mr. Muell...</td>\n",
       "      <td>WASHINGTON (Reuters) - The special counsel inv...</td>\n",
       "      <td>politicsNews</td>\n",
       "      <td>December 31, 2017</td>\n",
       "    </tr>\n",
       "    <tr>\n",
       "      <th>3</th>\n",
       "      <td>FBI Russia probe helped by Australian diplomat...</td>\n",
       "      <td>WASHINGTON (Reuters) - Trump campaign adviser ...</td>\n",
       "      <td>politicsNews</td>\n",
       "      <td>December 30, 2017</td>\n",
       "    </tr>\n",
       "    <tr>\n",
       "      <th>4</th>\n",
       "      <td>Trump wants Postal Service to charge 'much mor...</td>\n",
       "      <td>SEATTLE/WASHINGTON (Reuters) - President Donal...</td>\n",
       "      <td>politicsNews</td>\n",
       "      <td>December 29, 2017</td>\n",
       "    </tr>\n",
       "  </tbody>\n",
       "</table>\n",
       "</div>"
      ],
      "text/plain": [
       "                                               title  ...                date\n",
       "0  As U.S. budget fight looms, Republicans flip t...  ...  December 31, 2017 \n",
       "1  U.S. military to accept transgender recruits o...  ...  December 29, 2017 \n",
       "2  Senior U.S. Republican senator: 'Let Mr. Muell...  ...  December 31, 2017 \n",
       "3  FBI Russia probe helped by Australian diplomat...  ...  December 30, 2017 \n",
       "4  Trump wants Postal Service to charge 'much mor...  ...  December 29, 2017 \n",
       "\n",
       "[5 rows x 4 columns]"
      ]
     },
     "execution_count": 4,
     "metadata": {
      "tags": []
     },
     "output_type": "execute_result"
    }
   ],
   "source": [
    "real_df = pd.read_csv('https://raw.githubusercontent.com/AI-kartheek/AI-Fake-News-Detection-System/main/datasets/True.csv')\n",
    "real_df.head()"
   ]
  },
  {
   "cell_type": "code",
   "execution_count": null,
   "metadata": {
    "colab": {
     "base_uri": "https://localhost:8080/"
    },
    "executionInfo": {
     "elapsed": 383,
     "status": "ok",
     "timestamp": 1627658246302,
     "user": {
      "displayName": "Nella Kartheek",
      "photoUrl": "https://lh3.googleusercontent.com/a-/AOh14Gh5xJtK0npI1YA_guyIgSHCGwXFsMpmhWibCf7f=s64",
      "userId": "12980961804103110882"
     },
     "user_tz": -330
    },
    "id": "GdqLST-N65DW",
    "outputId": "8746f94c-08c6-4b9c-c390-5a4f4e87a15e"
   },
   "outputs": [
    {
     "data": {
      "text/plain": [
       "title      0\n",
       "text       0\n",
       "subject    0\n",
       "date       0\n",
       "dtype: int64"
      ]
     },
     "execution_count": 7,
     "metadata": {
      "tags": []
     },
     "output_type": "execute_result"
    }
   ],
   "source": [
    "real_df.isna().sum()"
   ]
  },
  {
   "cell_type": "code",
   "execution_count": null,
   "metadata": {
    "id": "ODyeD3ne65DX",
    "outputId": "1a6501d0-500c-4cc2-fb8a-b3b82e27097f"
   },
   "outputs": [
    {
     "data": {
      "image/png": "[encoded data removed]",
      "text/plain": [
       "<Figure size 720x432 with 1 Axes>"
      ]
     },
     "metadata": {
      "tags": []
     },
     "output_type": "display_data"
    }
   ],
   "source": [
    "plt.figure(figsize=(10, 6))\n",
    "sns.countplot(x='subject', data=real_df)\n",
    "plt.title('Real News')\n",
    "plt.xlabel('News Type')\n",
    "plt.show()"
   ]
  },
  {
   "cell_type": "code",
   "execution_count": null,
   "metadata": {
    "id": "KvuFENog65DX"
   },
   "outputs": [],
   "source": [
    "text = \" \".join(real_df.text.tolist())"
   ]
  },
  {
   "cell_type": "code",
   "execution_count": null,
   "metadata": {
    "id": "Lodz4lHC65DX",
    "outputId": "c500f534-8e9d-4fb2-8329-3b1952ca19df"
   },
   "outputs": [
    {
     "data": {
      "image/png": "[encoded data removed]",
      "text/plain": [
       "<Figure size 720x720 with 1 Axes>"
      ]
     },
     "metadata": {
      "tags": []
     },
     "output_type": "display_data"
    }
   ],
   "source": [
    "wordcloud = WordCloud(width=1920, height=1080).generate(text)\n",
    "\n",
    "plt.figure(figsize=(10, 10))\n",
    "plt.imshow(wordcloud)\n",
    "plt.axis('off') \n",
    "plt.show()"
   ]
  },
  {
   "cell_type": "markdown",
   "metadata": {
    "id": "N3-z-NPH65DX"
   },
   "source": [
    "<a id=\"diff\"></a>\n",
    "### Difference between Real and Fake News\n",
    "Real News seems to have source of publication which is not present in fake news.\n",
    "\n",
    "By Looking at the data:\n",
    "* most of ``Real text`` contains reuters information such as **WASHINGTON Reuters** and also mentioned exact week names such as Tuesday, Thursday, last Year, Monday etc.\n",
    "* and also the ``Real news`` contains text from **twitter** and some of it doesn't contain any Publication Info.\n",
    "* Here ``Fake News`` doesn't contain any publication info."
   ]
  },
  {
   "cell_type": "markdown",
   "metadata": {
    "id": "waFFbtgu65DY"
   },
   "source": [
    "<a id=\"author_real\"></a>\n",
    "### Real News Author Extraction\n",
    "* Unlike Real News data, Fake News doesn't contain any author overview. So we only perform author extraction on Real News only."
   ]
  },
  {
   "cell_type": "code",
   "execution_count": 5,
   "metadata": {
    "executionInfo": {
     "elapsed": 403,
     "status": "ok",
     "timestamp": 1627739131415,
     "user": {
      "displayName": "Nella Kartheek",
      "photoUrl": "https://lh3.googleusercontent.com/a-/AOh14Gh5xJtK0npI1YA_guyIgSHCGwXFsMpmhWibCf7f=s64",
      "userId": "12980961804103110882"
     },
     "user_tz": -330
    },
    "id": "Y6qJsrnP65DY"
   },
   "outputs": [],
   "source": [
    "# to archieve maximum length(hyper parameter) of the publisher overview and its index\n",
    "\n",
    "def getHyperParameter(df, max_length=1000):\n",
    "    max_publisher_length=0\n",
    "    max_publisher_index=0\n",
    "    for i, val in enumerate(df.text.values):\n",
    "        record = val.split('-', maxsplit=1)\n",
    "        try:\n",
    "            record[1] # raises an exception if the 1st index is not present\n",
    "            length = len(record[0])\n",
    "            if length < max_length:\n",
    "                if max_publisher_length < length:\n",
    "                    max_publisher_length = length\n",
    "                    max_publisher_index = i\n",
    "        except:\n",
    "            pass\n",
    "    return max_publisher_index, max_publisher_length\n"
   ]
  },
  {
   "cell_type": "code",
   "execution_count": 6,
   "metadata": {
    "colab": {
     "base_uri": "https://localhost:8080/"
    },
    "executionInfo": {
     "elapsed": 723,
     "status": "ok",
     "timestamp": 1627739133580,
     "user": {
      "displayName": "Nella Kartheek",
      "photoUrl": "https://lh3.googleusercontent.com/a-/AOh14Gh5xJtK0npI1YA_guyIgSHCGwXFsMpmhWibCf7f=s64",
      "userId": "12980961804103110882"
     },
     "user_tz": -330
    },
    "id": "SlPwXm-f65DY",
    "outputId": "8e98b245-1448-4383-c7e1-f999ee8a9661",
    "scrolled": true
   },
   "outputs": [
    {
     "name": "stdout",
     "output_type": "stream",
     "text": [
      "For a Below max length of 1000::\n",
      "maximum sentence length = 986, and its index is 9009. So the Text is ::\n",
      " text_1 => Global health officials are racing to better understand the Zika virus behind a major outbreak that began in Brazil last year and has spread to many countries in the Americas.  The following are some questions and answers about the virus and current outbreak: How do people become infected? Zika is transmitted to people through the bite of infected female mosquitoes, primarily the Aedes aegypti mosquito, the same type that spreads dengue, chikungunya and yellow fever. The Pan American Health Organization (PAHO) said Aedes mosquitoes are found in all countries in the Americas except Canada and continental Chile, and the virus will likely reach all countries and territories of the region where Aedes mosquitoes are found. How do you treat Zika? There is no treatment or vaccine for Zika infection. Companies and scientists are racing to develop a safe and effective vaccine for Zika, but the World Health Organization (WHO) had said it would take at least 18 months to start large\n",
      " text_2 => scale clinical trials of potential preventative shots. How dangerous is it? The U.S. Centers for Disease Control and Prevention concluded that infection with the Zika virus in pregnant women is a cause of the birth defect microcephaly and other severe brain abnormalities in babies. The CDC said now that the causal relationship has been established, several important questions must still be answered with studies that could take years. According to the World Health Organization, there is strong scientific consensus that Zika can cause the birth defect microcephaly in babies, a condition defined by unusually small heads that can result in developmental problems. In addition, the agency said it could cause Guillain\n",
      "==============================\n",
      "\n",
      "For a Below max length of 986::\n",
      "maximum sentence length = 813, and its index is 8771. So the Text is ::\n",
      " text_1 => In a speech weighted with America’s complicated racial history, Democrat Hillary Clinton laced into Republican presidential rival Donald Trump on Wednesday, accusing him of fueling divisions among Americans over race and religion. “His campaign is as divisive as any we have seen in our lifetimes,” Clinton said at a campaign appearance at the Illinois state house in Springfield. “It is built on stoking mistrust and pitting American against American. It’s there in everything he says and everything he promises to do as president.” Clinton ticked off Trump’s proposals to ban Muslims from entering the country, create a database of Muslims already in the country and step up deportations by creating a special deportation force as policies intended to drive Americans apart. She lambasted Trump’s decision to re\n",
      " text_2 => tweet an image from a neo\n",
      "==============================\n",
      "\n",
      "For a Below max length of 813::\n",
      "maximum sentence length = 747, and its index is 6660. So the Text is ::\n",
      " text_1 => Republican members of Congress are complaining that U.S. intelligence agencies are refusing to brief them widely on a classified CIA report that concluded Russia hacked Democratic Party data in an effort to help Donald Trump win the presidency. The Republicans said Director of National Intelligence James Clapper has refused their requests for full briefings of Congress’ two intelligence committees. U.S. government officials said the leaders of Congress and the chairmen of the two intelligence committees, known as the “Gang of Eight,” have been briefed on the Central Intelligence Agency’s conclusion. Nevertheless, Representative Devin Nunes, the California Republican who chairs the House Intelligence Committee and is a member of President\n",
      " text_2 => elect Trump’s transition team as well as the Gang of Eight, has called for a briefing for his entire committee on the CIA assessment. “The committee is vigorously looking into reports of cyber\n",
      "==============================\n",
      "\n",
      "For a Below max length of 747::\n",
      "maximum sentence length = 563, and its index is 9737. So the Text is ::\n",
      " text_1 => Caitlyn Jenner posted a video on Wednesday (April 26) of herself using a women’s bathroom at Republican Presidential candidate Donald Trump’s New York hotel. Published on her Facebook page, Jenner’s video shows her walking along the street, entering the Trump International Hotel and Tower and making her way to the restrooms. The video was spurred on by Trump, who, during an appearance on The Today Show last week, said in an interview that he would not care if Jenner used the women’s room at his properties. His comment came following the trending topic of so\n",
      " text_2 => called “bathroom bills,” like the one passed in North Carolina, which prohibits transgender people from using bathrooms consistent with their gender identity.\n",
      "==============================\n",
      "\n",
      "For a Below max length of 563::\n",
      "maximum sentence length = 545, and its index is 3488. So the Text is ::\n",
      " text_1 => The White House on Wednesday disclosed a group of former lobbyists working in President Donald Trump’s administration who have been issued ethics waivers, following a request from the U.S. government’s ethics agency. The list of at least 11 waivers include White House adviser Kellyanne Conway and Trump's Chief of Staff Reince Priebus, according to a chart issued on the White House website. (bit.ly/1LPKWx8) Conway is permitted to “participate in communications and meetings involving former clients which are political, advocacy, trade or non\n",
      " text_2 => profit organizations,” while Priebus, a former Republican National Committee chairman, is allowed to have communications and meetings with the RNC, the document says. Shortly after taking office in January, Trump signed an executive order barring lobbyists who joined the administration from working on issues related to their prior work. But the administration has the power to grant waivers to particular hires, exempting them from that restriction. Also on the list is Michael Catanzaro, a special assistant to the president and a former oil and gas lobbyist, who is cleared to weigh in on energy policy. Daniel Epstein, associate counsel to the president, “may provide legal advice to the White House Office or any agency of the executive branch and to take positions adverse to Cause of Action Institute.” Shahira Knight, a special assistant to the president who formerly worked for Fidelity, a financial services company,  “may participate in broad policy matters and particular matters of general applicability relating to tax, retirement and financial services issues.” Andrew Olmem, a special assistant to Trump who worked as an attorney to the Senate Banking Committee during the financial crisis, is cleared to join meetings with former clients involving Puerto Rico’s fiscal issues, along with a wide range of activities involving financial regulation. Mick Mulvaney, director of the Office of Management and Budget (OMB), had promised in a letter on Friday that the White House would comply with a request from the Office of Government Ethics (OGE) to provide information on which former lobbyists are working in the administration.       Mulvaney said in the letter that the administration was not seeking to impede efforts by OGE to obtain that information, despite earlier protests from Walter Shaub, the agency’s director. Shaub, an appointee under President Barack Obama in the final year of a five\n",
      "==============================\n",
      "\n",
      "For a Below max length of 545::\n",
      "maximum sentence length = 461, and its index is 4465. So the Text is ::\n",
      " text_1 => WASHINGTON The clock began running out this week on a strategy that has provided U.S. Republicans in Congress with their only notable legislative successes this year: aggressive use of an obscure U.S. law known as the Congressional Review Act (CRA).  On his 75th day in power, President Donald Trump has yet to offer any major legislation or win passage of a bill he favors, but House of Representatives Majority Leader Kevin McCarthy has notched numerous small\n",
      " text_2 => scale victories with his strategy.  Vice President Mike Pence told business leaders at the White House on Tuesday that Trump would sign more CRA resolutions soon and roll back an “avalanche of red tape” from the administration of President Barack Obama, a Democrat.  REUTERS COMMENTARYWar College: One tank to rule them allThe right way to address the Marines United Facebook GroupIn legal battles against travel ban, Trump's own statements are his worst enemy Since Trump took office on Jan. 20, McCarthy has led Congress in churning out 13 resolutions under the CRA killing Obama\n",
      "==============================\n",
      "\n",
      "For a Below max length of 461::\n",
      "maximum sentence length = 452, and its index is 9307. So the Text is ::\n",
      " text_1 => It’s the near future, and North Korea’s regime is on the brink of collapse. As rumors swirl of palace coups, forces on both sides of the world’s most militarized border are on heightened alert. The U.S. military faces a much bigger problem. Somewhere in the Pacific, a North Korean submarine is believed to be carrying nuclear warheads and the missiles to deliver them. And nobody knows where it is.  It sounds like the plot of a “Hunt for Red October”\n",
      " text_2 => style technothriller. But if Pyongyang’s technicians continue at their current pace, experts say it is becoming ever more likely.  One thing is certain: North Korea is plowing considerable resources into building its nuclear capability. And it is clearly making progress – even if Tuesday’s failed missile test shows it still has a long way to go.  Japanese officials said what appeared to be a conventional Musudan rocket, which theoretically has the ability to reach Japan and the U.S. territory and military base of Guam, exploded either as or shortly after it left its launcher. North Korea is estimated to have some 20 to 30 of the missiles – first deployed in 2007, but yet to be launched successfully.  What North Korean leader Kim Jong Un wants, most analysts believe, is simple – a rocket that can fire a nuclear warhead at least to regional targets. His ultimate ambition, however, is to be able to hit U.S. cities on the West Coast, most likely from a submarine that could hide itself at sea.  North Korea has been steadily improving its rockets – which can also carry conventional explosives – for decades. It detonated its first nuclear device in 2006 but most experts believe it has yet to build one small enough to be placed on a missile. Having the credible ability to do all of that and get the missiles to sea could take well over a decade, perhaps considerably more.  Once it happens, however, it will be a strategic game changer. At worst, U.S. cities on the West Coast would have to deal with the prospect, however remote, that they might be struck by a North Korean atomic weapon. At the very least, a North Korea armed with nuclear submarines would hugely complicate the calculus for any U.S. president handling a crisis on the Korean peninsula itself.  That, of course, is exactly the plan.  The fact that Pyongyang has conducted so many tests this year, some experts believe, suggests Kim is pushing his scientists harder than ever to deliver working rockets and warheads. North Korea is believed to have tagged the expertise of Russian Cold War\n",
      "==============================\n",
      "\n",
      "For a Below max length of 452::\n",
      "maximum sentence length = 436, and its index is 5784. So the Text is ::\n",
      " text_1 => Federal appeals court judge Neil Gorsuch, the U.S. Supreme Court pick of President Donald Trump, is a conservative intellectual known for backing religious rights and seen as very much in the mold of Antonin Scalia, the justice he was chosen to replace.  Gorsuch, who has not shied away from needling liberals on occasion, is 49 and could influence the high court for decades to come in the lifetime post, if confirmed by the Republican\n",
      " text_2 => led Senate. He is the youngest Supreme Court nominee since Republican President George H.W. Bush in 1991 picked Clarence Thomas, who was 43 at the time.  DON’T MISS For hardline West Bank settlers, Jared Kushner's their man He currently serves as a judge on the 10th U.S. Circuit Court of Appeals in Denver, the city where he was born. He was appointed to that post in 2006 by Republican President George W. Bush.  Gorsuch, who is white, adds little diversity to the court compared with the justices appointed by Democratic President Barack Obama, both of whom were women, one becoming the first Latina justice.  But he offers geographical diversity to a court dominated by justices from the east and west coasts. As an Episcopalian, he would be the only Protestant on the court, which has three Jewish justices and five Catholics.  EXCLUSIVE Poll: A third of Americans think travel ban will make them safer Gorsuch is seen by analysts as a jurist similar to Scalia, who died on Feb. 13, 2016. Scalia, praised by Gorsuch as “a lion of the law,” was known not only for his hard\n",
      "==============================\n",
      "\n",
      "For a Below max length of 436::\n",
      "maximum sentence length = 371, and its index is 8482. So the Text is ::\n",
      " text_1 => The following timeline charts the origin and spread of the Zika virus from its discovery nearly 70 years ago: 1947: Scientists researching yellow fever in Uganda’s Zika Forest identify the virus in a rhesus monkey 1948: Virus recovered from Aedes africanus mosquito in Zika Forest 1952: First human cases detected in Uganda and Tanzania 1954: Virus found in Nigeria 1960s\n",
      " text_2 => 80s: Zika detected in mosquitoes and monkeys across equatorial Africa 1969–83: Zika found in equatorial Asia, including India, Indonesia, Malaysia and Pakistan 2007: Zika spreads from Africa and Asia, first large outbreak on Pacific island of Yap 2012: Researchers identify two distinct lineages of the virus, African and Asian 2013–14: Zika outbreaks in French Polynesia, Easter Island, the Cook Islands and New Caledonia. Retrospective analysis shows possible link to birth defects and severe neurological complications in babies in French Polynesia March 2, 2015: Brazil reports illness characterized by skin rash in northeastern states July 17: Brazil reports detection of neurological disorders in newborns associated with history of infection Oct. 5: Cape Verde has cases of illness with skin rash  Oct. 22: Colombia confirms cases of Zika Oct. 30: Brazil reports increase in microcephaly, abnormally small heads, among newborns Nov. 11: Brazil declares public health emergency  November 2015\n",
      "==============================\n",
      "\n",
      "For a Below max length of 371::\n",
      "maximum sentence length = 342, and its index is 8194. So the Text is ::\n",
      " text_1 => The following timeline charts the origin and spread of the Zika virus from its discovery nearly 70 years ago: 1947: Scientists researching yellow fever in Uganda’s Zika Forest identify the virus in a rhesus monkey 1948: Virus recovered from Aedes africanus mosquito in Zika Forest 1952: First human cases detected in Uganda and Tanzania 1960s\n",
      " text_2 => 80s: Zika detected in mosquitoes and monkeys across equatorial Africa 1960s–80s: Zika found in equatorial Asia, including India, Indonesia, Malaysia and Pakistan 2007: Zika spreads from Africa and Asia, first large outbreak on Pacific island of Yap 2012: Researchers identify two distinct lineages of the virus, African and Asian 2013–14: Zika outbreaks in French Polynesia, Easter Island, the Cook Islands and New Caledonia. Retrospective analysis shows possible link to birth defects and severe neurological complications in babies in French Polynesia March 2, 2015: Brazil reports illness characterized by skin rash in northeastern states July 17: Brazil reports detection of neurological disorders in newborns associated with history of infection Oct. 22: Colombia confirms cases of Zika Oct. 30: Brazil reports increase in microcephaly, abnormally small heads, among newborns Nov. 11: Brazil declares public health emergency  November 2015\n",
      "==============================\n",
      "\n",
      "For a Below max length of 342::\n",
      "maximum sentence length = 259, and its index is 1711. So the Text is ::\n",
      " text_1 => The following statements were posted to the verified Twitter accounts of U.S. President Donald Trump, @realDonaldTrump and @POTUS.  The opinions expressed are his own. Reuters has not edited the statements or confirmed their accuracy.  @realDonaldTrump :     \n",
      " text_2 =>  With the ridiculous Filibuster Rule in the Senate, Republicans need 60 votes to pass legislation, rather than 51. Can’t get votes, END NOW![0637 EDT] \n",
      "==============================\n",
      "\n",
      "For a Below max length of 259::\n",
      "maximum sentence length = 255, and its index is 7. So the Text is ::\n",
      " text_1 => The following statements were posted to the verified Twitter accounts of U.S. President Donald Trump, @realDonaldTrump and @POTUS.  The opinions expressed are his own. Reuters has not edited the statements or confirmed their accuracy.  @realDonaldTrump : \n",
      " text_2 =>  While the Fake News loves to talk about my so\n",
      "==============================\n",
      "\n",
      "For a Below max length of 255::\n",
      "maximum sentence length = 242, and its index is 7568. So the Text is ::\n",
      " text_1 =>  (This version of the November 3 story officially corrects paragraph 13 to read Chapel Hill, instead of Raleigh. The White House initially misidentified Obama’s location in a transcript of his remarks) By Julia Harte ASHEBORO, N.C. (Reuters) \n",
      " text_2 =>  When Bill McAnulty, an elections board chairman in a mostly white North Carolina county, agreed in July to open a Sunday voting site where black church members could cast ballots after services, the reaction was swift: he was labeled a traitor by his fellow Republicans. “I became a villain, quite frankly,” recalled McAnulty at a state board of elections meeting in September that had been called to resolve disputes over early voting plans. “I got accused of being a traitor and everything else by the Republican Party,” McAnulty said. Following the blowback from Republicans, McAnulty later withdrew his support for the Sunday site. In an interview with Reuters, he said he ultimately ruled against opening the Sunday voting site in Randolph County because he had “made a mistake in reading the wishes of the voters.” He declined to discuss the episode further. This year’s highly charged presidential contest between Democrat Hillary Clinton and Republican Donald Trump has stoked accusations by both parties of political meddling in the scheduling of early voting hours in North Carolina, a coveted battleground state with a history of tight elections. In emails, state and county Republican officials lobbied  members of at least 17 county election boards to keep early\n",
      "==============================\n",
      "\n",
      "For a Below max length of 242::\n",
      "maximum sentence length = 239, and its index is 9603. So the Text is ::\n",
      " text_1 =>  (This version of the May 10 story has been corrects to update new name of group to “GLBTQ Legal Advocates & Defenders” from “Gay and Lesbian Advocates and Defenders,” in the sixth paragraph) By Daniel Trotta and Daniel Wiessner (Reuters) \n",
      " text_2 =>  The legal battle over transgender rights between the state of North Carolina and the U.S. government has moved the country closer to settling one of the last frontiers in civil rights law.  At issue is whether transgender people deserve the same federal protections that have been extended to groups such as blacks and religious minorities. Backers of the North Carolina law, which requires people to use public bathrooms that correspond with the sex on their birth certificate rather than their gender identity, say it will protect women and girls from predators. Transgender advocates say that claim is unfounded and ignores a modern understanding of people who identify with a gender other than the one assigned at birth.  The next step is likely to be a federal judge’s decision on whether to impose an injunction, or temporary ruling, to void the North Carolina law pending a trial. Regardless of how a judge might rule on an injunction, the case stands to add to a growing body of legal decisions that have tended to side in favor of transgender rights but not enough to dissuade states like North Carolina.  A handful of U.S. states and cities have attempted to enact measures affecting lesbian, gay, bisexual and transgender rights, but North Carolina is the first state to focus on transgender people’s use of public bathrooms.    “This is absolutely a critical moment in terms of the focus and the answers that will come through these cases about the established scope of protections for transgender people,” said Jennifer Levi, a lawyer with GLBTQ Legal Advocates & Defenders. The North Carolina law is the subject of four lawsuits in federal court, two on each side. The U.S. Justice Department and an advocacy group, the American Civil Liberties Union, have each sought to strike it down, saying the law violates the landmark Civil Rights Act of 1964, which jolted a divided nation into applying full rights to African\n",
      "==============================\n",
      "\n"
     ]
    }
   ],
   "source": [
    "max_length=[1000, 986, 813, 747, 563, 545, 461, 452, 436, 371, 342, 259, 255, 242]\n",
    "for length in max_length:\n",
    "    max_publisher_index, max_publisher_length = getHyperParameter(real_df, length)\n",
    "    print(\"For a Below max length of {}::\".format(length))\n",
    "    print(\"maximum sentence length = {}, and its index is {}. So the Text is ::\\n text_1 => {}\\n text_2 => {}\".format(\n",
    "                                                                            max_publisher_length, max_publisher_index,\n",
    "                                                                            real_df.text[max_publisher_index].split('-')[0],\n",
    "                                                                            real_df.text[max_publisher_index].split('-')[1]))\n",
    "    print('==============================\\n')"
   ]
  },
  {
   "cell_type": "markdown",
   "metadata": {
    "id": "EaqEg8qX65DZ"
   },
   "source": [
    "* as we can see that After ``maximum sentence length = 255`` we don't have any publisher Names. And as the Publisher overview starts from below the ``maximum sentence length = 242``"
   ]
  },
  {
   "cell_type": "markdown",
   "metadata": {
    "id": "cPn4Jatn65DZ"
   },
   "source": [
    "* so our maximum sentence length to be choosen here is **255**"
   ]
  },
  {
   "cell_type": "code",
   "execution_count": 7,
   "metadata": {
    "executionInfo": {
     "elapsed": 430,
     "status": "ok",
     "timestamp": 1627739138148,
     "user": {
      "displayName": "Nella Kartheek",
      "photoUrl": "https://lh3.googleusercontent.com/a-/AOh14Gh5xJtK0npI1YA_guyIgSHCGwXFsMpmhWibCf7f=s64",
      "userId": "12980961804103110882"
     },
     "user_tz": -330
    },
    "id": "GWBm3GxC65DZ"
   },
   "outputs": [],
   "source": [
    "# collect unknown publishers(This may contain the empty text or null text)\n",
    "\n",
    "unknown_publishers = []\n",
    "for i,row in enumerate(real_df.text.values):\n",
    "    try:\n",
    "        record = row.split('-', maxsplit=1)\n",
    "        \n",
    "        # returns an exception if the list doesn't contain 1st index (this condition checks whether the data is splitted or not)\n",
    "        record[1]\n",
    "        assert(len(record[0]) < 255) # here 255 is the hyper parameter that we selected for maximum author length.\n",
    "    except:\n",
    "        unknown_publishers.append(i)"
   ]
  },
  {
   "cell_type": "code",
   "execution_count": 8,
   "metadata": {
    "colab": {
     "base_uri": "https://localhost:8080/"
    },
    "executionInfo": {
     "elapsed": 6,
     "status": "ok",
     "timestamp": 1627739138766,
     "user": {
      "displayName": "Nella Kartheek",
      "photoUrl": "https://lh3.googleusercontent.com/a-/AOh14Gh5xJtK0npI1YA_guyIgSHCGwXFsMpmhWibCf7f=s64",
      "userId": "12980961804103110882"
     },
     "user_tz": -330
    },
    "id": "4xVqqLR365DZ",
    "outputId": "9cc2eee2-6072-4a7e-bec6-4e59af2c9910"
   },
   "outputs": [
    {
     "data": {
      "text/plain": [
       "112"
      ]
     },
     "execution_count": 8,
     "metadata": {
      "tags": []
     },
     "output_type": "execute_result"
    }
   ],
   "source": [
    "len(unknown_publishers)"
   ]
  },
  {
   "cell_type": "code",
   "execution_count": 9,
   "metadata": {
    "colab": {
     "base_uri": "https://localhost:8080/",
     "height": 204
    },
    "executionInfo": {
     "elapsed": 7,
     "status": "ok",
     "timestamp": 1627739140647,
     "user": {
      "displayName": "Nella Kartheek",
      "photoUrl": "https://lh3.googleusercontent.com/a-/AOh14Gh5xJtK0npI1YA_guyIgSHCGwXFsMpmhWibCf7f=s64",
      "userId": "12980961804103110882"
     },
     "user_tz": -330
    },
    "id": "S-v4_8F965Da",
    "outputId": "85326018-0e7d-4051-89cd-921175b333ec"
   },
   "outputs": [
    {
     "data": {
      "text/html": [
       "<div>\n",
       "<style scoped>\n",
       "    .dataframe tbody tr th:only-of-type {\n",
       "        vertical-align: middle;\n",
       "    }\n",
       "\n",
       "    .dataframe tbody tr th {\n",
       "        vertical-align: top;\n",
       "    }\n",
       "\n",
       "    .dataframe thead th {\n",
       "        text-align: right;\n",
       "    }\n",
       "</style>\n",
       "<table border=\"1\" class=\"dataframe\">\n",
       "  <thead>\n",
       "    <tr style=\"text-align: right;\">\n",
       "      <th></th>\n",
       "      <th>title</th>\n",
       "      <th>text</th>\n",
       "      <th>subject</th>\n",
       "      <th>date</th>\n",
       "    </tr>\n",
       "  </thead>\n",
       "  <tbody>\n",
       "    <tr>\n",
       "      <th>7</th>\n",
       "      <td>Factbox: Trump on Twitter (Dec 29) - Approval ...</td>\n",
       "      <td>The following statements were posted to the ve...</td>\n",
       "      <td>politicsNews</td>\n",
       "      <td>December 29, 2017</td>\n",
       "    </tr>\n",
       "    <tr>\n",
       "      <th>8</th>\n",
       "      <td>Trump on Twitter (Dec 28) - Global Warming</td>\n",
       "      <td>The following statements were posted to the ve...</td>\n",
       "      <td>politicsNews</td>\n",
       "      <td>December 29, 2017</td>\n",
       "    </tr>\n",
       "    <tr>\n",
       "      <th>12</th>\n",
       "      <td>Factbox: Trump on Twitter (Dec 28) - Vanity Fa...</td>\n",
       "      <td>The following statements were posted to the ve...</td>\n",
       "      <td>politicsNews</td>\n",
       "      <td>December 28, 2017</td>\n",
       "    </tr>\n",
       "    <tr>\n",
       "      <th>13</th>\n",
       "      <td>Trump on Twitter (Dec 27) - Trump, Iraq, Syria</td>\n",
       "      <td>The following statements were posted to the ve...</td>\n",
       "      <td>politicsNews</td>\n",
       "      <td>December 28, 2017</td>\n",
       "    </tr>\n",
       "    <tr>\n",
       "      <th>17</th>\n",
       "      <td>Trump on Twitter (Dec 26) - Hillary Clinton, T...</td>\n",
       "      <td>The following statements were posted to the ve...</td>\n",
       "      <td>politicsNews</td>\n",
       "      <td>December 26, 2017</td>\n",
       "    </tr>\n",
       "  </tbody>\n",
       "</table>\n",
       "</div>"
      ],
      "text/plain": [
       "                                                title  ...                date\n",
       "7   Factbox: Trump on Twitter (Dec 29) - Approval ...  ...  December 29, 2017 \n",
       "8          Trump on Twitter (Dec 28) - Global Warming  ...  December 29, 2017 \n",
       "12  Factbox: Trump on Twitter (Dec 28) - Vanity Fa...  ...  December 28, 2017 \n",
       "13     Trump on Twitter (Dec 27) - Trump, Iraq, Syria  ...  December 28, 2017 \n",
       "17  Trump on Twitter (Dec 26) - Hillary Clinton, T...  ...  December 26, 2017 \n",
       "\n",
       "[5 rows x 4 columns]"
      ]
     },
     "execution_count": 9,
     "metadata": {
      "tags": []
     },
     "output_type": "execute_result"
    }
   ],
   "source": [
    "real_df.iloc[unknown_publishers].head()"
   ]
  },
  {
   "cell_type": "markdown",
   "metadata": {
    "id": "7SKfEbcY65Da"
   },
   "source": [
    "**check for Empty text column in Real News**"
   ]
  },
  {
   "cell_type": "code",
   "execution_count": 10,
   "metadata": {
    "executionInfo": {
     "elapsed": 637,
     "status": "ok",
     "timestamp": 1627739144638,
     "user": {
      "displayName": "Nella Kartheek",
      "photoUrl": "https://lh3.googleusercontent.com/a-/AOh14Gh5xJtK0npI1YA_guyIgSHCGwXFsMpmhWibCf7f=s64",
      "userId": "12980961804103110882"
     },
     "user_tz": -330
    },
    "id": "049YXGP565Da"
   },
   "outputs": [],
   "source": [
    "def CheckEmptyText(df, column):\n",
    "    return [index for index, text in enumerate(df[column].values) if str(text).strip() == '']"
   ]
  },
  {
   "cell_type": "code",
   "execution_count": 11,
   "metadata": {
    "colab": {
     "base_uri": "https://localhost:8080/",
     "height": 80
    },
    "executionInfo": {
     "elapsed": 10,
     "status": "ok",
     "timestamp": 1627739144640,
     "user": {
      "displayName": "Nella Kartheek",
      "photoUrl": "https://lh3.googleusercontent.com/a-/AOh14Gh5xJtK0npI1YA_guyIgSHCGwXFsMpmhWibCf7f=s64",
      "userId": "12980961804103110882"
     },
     "user_tz": -330
    },
    "id": "Aw-1Efpv65Db",
    "outputId": "2af21ab5-453d-4157-b052-0d39cb36864e"
   },
   "outputs": [
    {
     "data": {
      "text/html": [
       "<div>\n",
       "<style scoped>\n",
       "    .dataframe tbody tr th:only-of-type {\n",
       "        vertical-align: middle;\n",
       "    }\n",
       "\n",
       "    .dataframe tbody tr th {\n",
       "        vertical-align: top;\n",
       "    }\n",
       "\n",
       "    .dataframe thead th {\n",
       "        text-align: right;\n",
       "    }\n",
       "</style>\n",
       "<table border=\"1\" class=\"dataframe\">\n",
       "  <thead>\n",
       "    <tr style=\"text-align: right;\">\n",
       "      <th></th>\n",
       "      <th>title</th>\n",
       "      <th>text</th>\n",
       "      <th>subject</th>\n",
       "      <th>date</th>\n",
       "    </tr>\n",
       "  </thead>\n",
       "  <tbody>\n",
       "    <tr>\n",
       "      <th>8970</th>\n",
       "      <td>Graphic: Supreme Court roundup</td>\n",
       "      <td></td>\n",
       "      <td>politicsNews</td>\n",
       "      <td>June 16, 2016</td>\n",
       "    </tr>\n",
       "  </tbody>\n",
       "</table>\n",
       "</div>"
      ],
      "text/plain": [
       "                               title text       subject            date\n",
       "8970  Graphic: Supreme Court roundup       politicsNews  June 16, 2016 "
      ]
     },
     "execution_count": 11,
     "metadata": {
      "tags": []
     },
     "output_type": "execute_result"
    }
   ],
   "source": [
    "## check for text column of unknown publishers is empty or not\n",
    "\n",
    "empty_real_index = CheckEmptyText(real_df, 'text')\n",
    "real_df.iloc[unknown_publishers].loc[empty_real_index] # just a single record is empty here"
   ]
  },
  {
   "cell_type": "markdown",
   "metadata": {
    "id": "lfKdtcXU65Db"
   },
   "source": [
    "* as we have a single row, we can directly drop it."
   ]
  },
  {
   "cell_type": "code",
   "execution_count": 12,
   "metadata": {
    "colab": {
     "base_uri": "https://localhost:8080/",
     "height": 35
    },
    "executionInfo": {
     "elapsed": 8,
     "status": "ok",
     "timestamp": 1627739147717,
     "user": {
      "displayName": "Nella Kartheek",
      "photoUrl": "https://lh3.googleusercontent.com/a-/AOh14Gh5xJtK0npI1YA_guyIgSHCGwXFsMpmhWibCf7f=s64",
      "userId": "12980961804103110882"
     },
     "user_tz": -330
    },
    "id": "lL8P8R9N65Db",
    "outputId": "9b86875b-de48-4f17-de45-a6d600641920"
   },
   "outputs": [
    {
     "data": {
      "application/vnd.google.colaboratory.intrinsic+json": {
       "type": "string"
      },
      "text/plain": [
       "' '"
      ]
     },
     "execution_count": 12,
     "metadata": {
      "tags": []
     },
     "output_type": "execute_result"
    }
   ],
   "source": [
    "real_df.text[8970] # we cna see that it contains only a space character, so remove this one. "
   ]
  },
  {
   "cell_type": "code",
   "execution_count": 13,
   "metadata": {
    "executionInfo": {
     "elapsed": 2,
     "status": "ok",
     "timestamp": 1627739149413,
     "user": {
      "displayName": "Nella Kartheek",
      "photoUrl": "https://lh3.googleusercontent.com/a-/AOh14Gh5xJtK0npI1YA_guyIgSHCGwXFsMpmhWibCf7f=s64",
      "userId": "12980961804103110882"
     },
     "user_tz": -330
    },
    "id": "iT81B4EK65Db"
   },
   "outputs": [],
   "source": [
    "# dropping the empty record\n",
    "\n",
    "real_df.drop(8970, axis=0, inplace=True)"
   ]
  },
  {
   "cell_type": "code",
   "execution_count": 14,
   "metadata": {
    "colab": {
     "base_uri": "https://localhost:8080/",
     "height": 49
    },
    "executionInfo": {
     "elapsed": 361,
     "status": "ok",
     "timestamp": 1627739153053,
     "user": {
      "displayName": "Nella Kartheek",
      "photoUrl": "https://lh3.googleusercontent.com/a-/AOh14Gh5xJtK0npI1YA_guyIgSHCGwXFsMpmhWibCf7f=s64",
      "userId": "12980961804103110882"
     },
     "user_tz": -330
    },
    "id": "c56XvoTf65Db",
    "outputId": "665005e5-fe02-4833-b647-6b20ae0dbb56"
   },
   "outputs": [
    {
     "data": {
      "text/html": [
       "<div>\n",
       "<style scoped>\n",
       "    .dataframe tbody tr th:only-of-type {\n",
       "        vertical-align: middle;\n",
       "    }\n",
       "\n",
       "    .dataframe tbody tr th {\n",
       "        vertical-align: top;\n",
       "    }\n",
       "\n",
       "    .dataframe thead th {\n",
       "        text-align: right;\n",
       "    }\n",
       "</style>\n",
       "<table border=\"1\" class=\"dataframe\">\n",
       "  <thead>\n",
       "    <tr style=\"text-align: right;\">\n",
       "      <th></th>\n",
       "      <th>title</th>\n",
       "      <th>text</th>\n",
       "      <th>subject</th>\n",
       "      <th>date</th>\n",
       "    </tr>\n",
       "  </thead>\n",
       "  <tbody>\n",
       "  </tbody>\n",
       "</table>\n",
       "</div>"
      ],
      "text/plain": [
       "Empty DataFrame\n",
       "Columns: [title, text, subject, date]\n",
       "Index: []"
      ]
     },
     "execution_count": 14,
     "metadata": {
      "tags": []
     },
     "output_type": "execute_result"
    }
   ],
   "source": [
    "## check for title column of unknown publishers is empty or not\n",
    "\n",
    "empty_real_index = CheckEmptyText(real_df, 'title')\n",
    "real_df.iloc[unknown_publishers].loc[empty_real_index]"
   ]
  },
  {
   "cell_type": "markdown",
   "metadata": {
    "id": "p6Qy48Eu65Dc"
   },
   "source": [
    "**Make a separate column for publisher**"
   ]
  },
  {
   "cell_type": "code",
   "execution_count": 15,
   "metadata": {
    "executionInfo": {
     "elapsed": 380,
     "status": "ok",
     "timestamp": 1627739158470,
     "user": {
      "displayName": "Nella Kartheek",
      "photoUrl": "https://lh3.googleusercontent.com/a-/AOh14Gh5xJtK0npI1YA_guyIgSHCGwXFsMpmhWibCf7f=s64",
      "userId": "12980961804103110882"
     },
     "user_tz": -330
    },
    "id": "GCukwfmK65Dc"
   },
   "outputs": [],
   "source": [
    "# collect the publisher and his text data\n",
    "\n",
    "publisher= []\n",
    "tmp_text = []\n",
    "\n",
    "for index, row in enumerate(real_df.text.values):\n",
    "    if index in unknown_publishers:\n",
    "        publisher.append('Unknown')\n",
    "        tmp_text.append(row)\n",
    "    else:\n",
    "        record = row.split('-', maxsplit=1)\n",
    "        publisher.append(record[0].strip())\n",
    "        tmp_text.append(record[1].strip())\n",
    "        "
   ]
  },
  {
   "cell_type": "code",
   "execution_count": 16,
   "metadata": {
    "executionInfo": {
     "elapsed": 711,
     "status": "ok",
     "timestamp": 1627739167459,
     "user": {
      "displayName": "Nella Kartheek",
      "photoUrl": "https://lh3.googleusercontent.com/a-/AOh14Gh5xJtK0npI1YA_guyIgSHCGwXFsMpmhWibCf7f=s64",
      "userId": "12980961804103110882"
     },
     "user_tz": -330
    },
    "id": "0Xv6uKmc65Dc"
   },
   "outputs": [],
   "source": [
    "## assign the list values\n",
    "real_df['publisher'] = publisher\n",
    "real_df['text'] = tmp_text"
   ]
  },
  {
   "cell_type": "code",
   "execution_count": 17,
   "metadata": {
    "colab": {
     "base_uri": "https://localhost:8080/",
     "height": 289
    },
    "executionInfo": {
     "elapsed": 5,
     "status": "ok",
     "timestamp": 1627739167460,
     "user": {
      "displayName": "Nella Kartheek",
      "photoUrl": "https://lh3.googleusercontent.com/a-/AOh14Gh5xJtK0npI1YA_guyIgSHCGwXFsMpmhWibCf7f=s64",
      "userId": "12980961804103110882"
     },
     "user_tz": -330
    },
    "id": "HoYbACTU65Dc",
    "outputId": "4184042a-8ec8-4735-d625-999123a9c97e"
   },
   "outputs": [
    {
     "data": {
      "text/html": [
       "<div>\n",
       "<style scoped>\n",
       "    .dataframe tbody tr th:only-of-type {\n",
       "        vertical-align: middle;\n",
       "    }\n",
       "\n",
       "    .dataframe tbody tr th {\n",
       "        vertical-align: top;\n",
       "    }\n",
       "\n",
       "    .dataframe thead th {\n",
       "        text-align: right;\n",
       "    }\n",
       "</style>\n",
       "<table border=\"1\" class=\"dataframe\">\n",
       "  <thead>\n",
       "    <tr style=\"text-align: right;\">\n",
       "      <th></th>\n",
       "      <th>title</th>\n",
       "      <th>text</th>\n",
       "      <th>subject</th>\n",
       "      <th>date</th>\n",
       "      <th>publisher</th>\n",
       "    </tr>\n",
       "  </thead>\n",
       "  <tbody>\n",
       "    <tr>\n",
       "      <th>0</th>\n",
       "      <td>As U.S. budget fight looms, Republicans flip t...</td>\n",
       "      <td>The head of a conservative Republican faction ...</td>\n",
       "      <td>politicsNews</td>\n",
       "      <td>December 31, 2017</td>\n",
       "      <td>WASHINGTON (Reuters)</td>\n",
       "    </tr>\n",
       "    <tr>\n",
       "      <th>1</th>\n",
       "      <td>U.S. military to accept transgender recruits o...</td>\n",
       "      <td>Transgender people will be allowed for the fir...</td>\n",
       "      <td>politicsNews</td>\n",
       "      <td>December 29, 2017</td>\n",
       "      <td>WASHINGTON (Reuters)</td>\n",
       "    </tr>\n",
       "    <tr>\n",
       "      <th>2</th>\n",
       "      <td>Senior U.S. Republican senator: 'Let Mr. Muell...</td>\n",
       "      <td>The special counsel investigation of links bet...</td>\n",
       "      <td>politicsNews</td>\n",
       "      <td>December 31, 2017</td>\n",
       "      <td>WASHINGTON (Reuters)</td>\n",
       "    </tr>\n",
       "    <tr>\n",
       "      <th>3</th>\n",
       "      <td>FBI Russia probe helped by Australian diplomat...</td>\n",
       "      <td>Trump campaign adviser George Papadopoulos tol...</td>\n",
       "      <td>politicsNews</td>\n",
       "      <td>December 30, 2017</td>\n",
       "      <td>WASHINGTON (Reuters)</td>\n",
       "    </tr>\n",
       "    <tr>\n",
       "      <th>4</th>\n",
       "      <td>Trump wants Postal Service to charge 'much mor...</td>\n",
       "      <td>President Donald Trump called on the U.S. Post...</td>\n",
       "      <td>politicsNews</td>\n",
       "      <td>December 29, 2017</td>\n",
       "      <td>SEATTLE/WASHINGTON (Reuters)</td>\n",
       "    </tr>\n",
       "  </tbody>\n",
       "</table>\n",
       "</div>"
      ],
      "text/plain": [
       "                                               title  ...                     publisher\n",
       "0  As U.S. budget fight looms, Republicans flip t...  ...          WASHINGTON (Reuters)\n",
       "1  U.S. military to accept transgender recruits o...  ...          WASHINGTON (Reuters)\n",
       "2  Senior U.S. Republican senator: 'Let Mr. Muell...  ...          WASHINGTON (Reuters)\n",
       "3  FBI Russia probe helped by Australian diplomat...  ...          WASHINGTON (Reuters)\n",
       "4  Trump wants Postal Service to charge 'much mor...  ...  SEATTLE/WASHINGTON (Reuters)\n",
       "\n",
       "[5 rows x 5 columns]"
      ]
     },
     "execution_count": 17,
     "metadata": {
      "tags": []
     },
     "output_type": "execute_result"
    }
   ],
   "source": [
    "real_df.head() # we can see that another column is created here"
   ]
  },
  {
   "cell_type": "code",
   "execution_count": 18,
   "metadata": {
    "colab": {
     "base_uri": "https://localhost:8080/"
    },
    "executionInfo": {
     "elapsed": 5,
     "status": "ok",
     "timestamp": 1627739168818,
     "user": {
      "displayName": "Nella Kartheek",
      "photoUrl": "https://lh3.googleusercontent.com/a-/AOh14Gh5xJtK0npI1YA_guyIgSHCGwXFsMpmhWibCf7f=s64",
      "userId": "12980961804103110882"
     },
     "user_tz": -330
    },
    "id": "B97ftGTW65Dc",
    "outputId": "4cee8619-d181-485f-c7a4-ed8cd4831562"
   },
   "outputs": [
    {
     "data": {
      "text/plain": [
       "(21416, 5)"
      ]
     },
     "execution_count": 18,
     "metadata": {
      "tags": []
     },
     "output_type": "execute_result"
    }
   ],
   "source": [
    "real_df.shape"
   ]
  },
  {
   "cell_type": "markdown",
   "metadata": {
    "id": "_TRTd08u65Dc"
   },
   "source": [
    "**Check Empty Text column in Fake News**"
   ]
  },
  {
   "cell_type": "code",
   "execution_count": 19,
   "metadata": {
    "colab": {
     "base_uri": "https://localhost:8080/"
    },
    "executionInfo": {
     "elapsed": 25,
     "status": "ok",
     "timestamp": 1627739170351,
     "user": {
      "displayName": "Nella Kartheek",
      "photoUrl": "https://lh3.googleusercontent.com/a-/AOh14Gh5xJtK0npI1YA_guyIgSHCGwXFsMpmhWibCf7f=s64",
      "userId": "12980961804103110882"
     },
     "user_tz": -330
    },
    "id": "S7yBCIro65Dd",
    "outputId": "63a9ec6b-3777-4e32-e7e4-e2881736aec4"
   },
   "outputs": [
    {
     "data": {
      "text/plain": [
       "(23481, 4)"
      ]
     },
     "execution_count": 19,
     "metadata": {
      "tags": []
     },
     "output_type": "execute_result"
    }
   ],
   "source": [
    "fake_df.shape"
   ]
  },
  {
   "cell_type": "code",
   "execution_count": 20,
   "metadata": {
    "executionInfo": {
     "elapsed": 20,
     "status": "ok",
     "timestamp": 1627739170352,
     "user": {
      "displayName": "Nella Kartheek",
      "photoUrl": "https://lh3.googleusercontent.com/a-/AOh14Gh5xJtK0npI1YA_guyIgSHCGwXFsMpmhWibCf7f=s64",
      "userId": "12980961804103110882"
     },
     "user_tz": -330
    },
    "id": "d94_IG8765Dd"
   },
   "outputs": [],
   "source": [
    "# extract the index for empty text for a fake news \n",
    "empty_fake_index = CheckEmptyText(fake_df, 'text')"
   ]
  },
  {
   "cell_type": "code",
   "execution_count": 21,
   "metadata": {
    "colab": {
     "base_uri": "https://localhost:8080/",
     "height": 221
    },
    "executionInfo": {
     "elapsed": 23,
     "status": "ok",
     "timestamp": 1627739170973,
     "user": {
      "displayName": "Nella Kartheek",
      "photoUrl": "https://lh3.googleusercontent.com/a-/AOh14Gh5xJtK0npI1YA_guyIgSHCGwXFsMpmhWibCf7f=s64",
      "userId": "12980961804103110882"
     },
     "user_tz": -330
    },
    "id": "l5cJ1hko65Dd",
    "outputId": "8459a19a-75bd-44c8-c8e3-784ee7914dea"
   },
   "outputs": [
    {
     "name": "stdout",
     "output_type": "stream",
     "text": [
      "(630, 4)\n"
     ]
    },
    {
     "data": {
      "text/html": [
       "<div>\n",
       "<style scoped>\n",
       "    .dataframe tbody tr th:only-of-type {\n",
       "        vertical-align: middle;\n",
       "    }\n",
       "\n",
       "    .dataframe tbody tr th {\n",
       "        vertical-align: top;\n",
       "    }\n",
       "\n",
       "    .dataframe thead th {\n",
       "        text-align: right;\n",
       "    }\n",
       "</style>\n",
       "<table border=\"1\" class=\"dataframe\">\n",
       "  <thead>\n",
       "    <tr style=\"text-align: right;\">\n",
       "      <th></th>\n",
       "      <th>title</th>\n",
       "      <th>text</th>\n",
       "      <th>subject</th>\n",
       "      <th>date</th>\n",
       "    </tr>\n",
       "  </thead>\n",
       "  <tbody>\n",
       "    <tr>\n",
       "      <th>10923</th>\n",
       "      <td>TAKE OUR POLL: Who Do You Think President Trum...</td>\n",
       "      <td></td>\n",
       "      <td>politics</td>\n",
       "      <td>May 10, 2017</td>\n",
       "    </tr>\n",
       "    <tr>\n",
       "      <th>11041</th>\n",
       "      <td>Joe Scarborough BERATES Mika Brzezinski Over “...</td>\n",
       "      <td></td>\n",
       "      <td>politics</td>\n",
       "      <td>Apr 26, 2017</td>\n",
       "    </tr>\n",
       "    <tr>\n",
       "      <th>11190</th>\n",
       "      <td>WATCH TUCKER CARLSON Scorch Sanctuary City May...</td>\n",
       "      <td></td>\n",
       "      <td>politics</td>\n",
       "      <td>Apr 6, 2017</td>\n",
       "    </tr>\n",
       "    <tr>\n",
       "      <th>11225</th>\n",
       "      <td>MAYOR OF SANCTUARY CITY: Trump Trying To Make ...</td>\n",
       "      <td></td>\n",
       "      <td>politics</td>\n",
       "      <td>Apr 2, 2017</td>\n",
       "    </tr>\n",
       "    <tr>\n",
       "      <th>11236</th>\n",
       "      <td>SHOCKER: Public School Turns Computer Lab Into...</td>\n",
       "      <td></td>\n",
       "      <td>politics</td>\n",
       "      <td>Apr 1, 2017</td>\n",
       "    </tr>\n",
       "  </tbody>\n",
       "</table>\n",
       "</div>"
      ],
      "text/plain": [
       "                                                   title  ...          date\n",
       "10923  TAKE OUR POLL: Who Do You Think President Trum...  ...  May 10, 2017\n",
       "11041  Joe Scarborough BERATES Mika Brzezinski Over “...  ...  Apr 26, 2017\n",
       "11190  WATCH TUCKER CARLSON Scorch Sanctuary City May...  ...   Apr 6, 2017\n",
       "11225  MAYOR OF SANCTUARY CITY: Trump Trying To Make ...  ...   Apr 2, 2017\n",
       "11236  SHOCKER: Public School Turns Computer Lab Into...  ...   Apr 1, 2017\n",
       "\n",
       "[5 rows x 4 columns]"
      ]
     },
     "execution_count": 21,
     "metadata": {
      "tags": []
     },
     "output_type": "execute_result"
    }
   ],
   "source": [
    "print(fake_df.iloc[empty_fake_index].shape)\n",
    "fake_df.iloc[empty_fake_index].head()"
   ]
  },
  {
   "cell_type": "markdown",
   "metadata": {
    "id": "HskWEBY965Dd"
   },
   "source": [
    "* 630 That's a huge number we got, so we are not going to remove these data points."
   ]
  },
  {
   "cell_type": "code",
   "execution_count": 22,
   "metadata": {
    "colab": {
     "base_uri": "https://localhost:8080/",
     "height": 66
    },
    "executionInfo": {
     "elapsed": 5,
     "status": "ok",
     "timestamp": 1627739172832,
     "user": {
      "displayName": "Nella Kartheek",
      "photoUrl": "https://lh3.googleusercontent.com/a-/AOh14Gh5xJtK0npI1YA_guyIgSHCGwXFsMpmhWibCf7f=s64",
      "userId": "12980961804103110882"
     },
     "user_tz": -330
    },
    "id": "zxVMcfRr65Dd",
    "outputId": "5edc13e4-85cd-409e-ab67-3f07f4675de6"
   },
   "outputs": [
    {
     "name": "stdout",
     "output_type": "stream",
     "text": [
      "(0, 4)\n"
     ]
    },
    {
     "data": {
      "text/html": [
       "<div>\n",
       "<style scoped>\n",
       "    .dataframe tbody tr th:only-of-type {\n",
       "        vertical-align: middle;\n",
       "    }\n",
       "\n",
       "    .dataframe tbody tr th {\n",
       "        vertical-align: top;\n",
       "    }\n",
       "\n",
       "    .dataframe thead th {\n",
       "        text-align: right;\n",
       "    }\n",
       "</style>\n",
       "<table border=\"1\" class=\"dataframe\">\n",
       "  <thead>\n",
       "    <tr style=\"text-align: right;\">\n",
       "      <th></th>\n",
       "      <th>title</th>\n",
       "      <th>text</th>\n",
       "      <th>subject</th>\n",
       "      <th>date</th>\n",
       "    </tr>\n",
       "  </thead>\n",
       "  <tbody>\n",
       "  </tbody>\n",
       "</table>\n",
       "</div>"
      ],
      "text/plain": [
       "Empty DataFrame\n",
       "Columns: [title, text, subject, date]\n",
       "Index: []"
      ]
     },
     "execution_count": 22,
     "metadata": {
      "tags": []
     },
     "output_type": "execute_result"
    }
   ],
   "source": [
    "# extract the index for empty title for a fake news \n",
    "\n",
    "empty_fake_index = CheckEmptyText(fake_df, 'title')\n",
    "print(fake_df.iloc[empty_fake_index].shape)\n",
    "fake_df.iloc[empty_fake_index].head()"
   ]
  },
  {
   "cell_type": "markdown",
   "metadata": {
    "id": "qHOlSebz65Dd"
   },
   "source": [
    "<a id=\"mix\"></a>\n",
    "### Mix Title and Text Column"
   ]
  },
  {
   "cell_type": "code",
   "execution_count": 23,
   "metadata": {
    "executionInfo": {
     "elapsed": 2,
     "status": "ok",
     "timestamp": 1627739173441,
     "user": {
      "displayName": "Nella Kartheek",
      "photoUrl": "https://lh3.googleusercontent.com/a-/AOh14Gh5xJtK0npI1YA_guyIgSHCGwXFsMpmhWibCf7f=s64",
      "userId": "12980961804103110882"
     },
     "user_tz": -330
    },
    "id": "s7Uv_qOm65De"
   },
   "outputs": [],
   "source": [
    "def MixTitleText(df):\n",
    "    return df['title'] + \" \"+ df['text']"
   ]
  },
  {
   "cell_type": "code",
   "execution_count": 24,
   "metadata": {
    "executionInfo": {
     "elapsed": 620,
     "status": "ok",
     "timestamp": 1627739176689,
     "user": {
      "displayName": "Nella Kartheek",
      "photoUrl": "https://lh3.googleusercontent.com/a-/AOh14Gh5xJtK0npI1YA_guyIgSHCGwXFsMpmhWibCf7f=s64",
      "userId": "12980961804103110882"
     },
     "user_tz": -330
    },
    "id": "344EW0Sx65De"
   },
   "outputs": [],
   "source": [
    "real_df['text'] = MixTitleText(real_df)\n",
    "fake_df['text'] = MixTitleText(fake_df)"
   ]
  },
  {
   "cell_type": "markdown",
   "metadata": {
    "id": "iGELtUxD65De"
   },
   "source": [
    "<a id=\"split\"></a>\n",
    "### Splitting Data\n",
    "* class = **0** for **Real News**\n",
    "* class = **1** for **Fake News**"
   ]
  },
  {
   "cell_type": "code",
   "execution_count": 25,
   "metadata": {
    "executionInfo": {
     "elapsed": 635,
     "status": "ok",
     "timestamp": 1627739182090,
     "user": {
      "displayName": "Nella Kartheek",
      "photoUrl": "https://lh3.googleusercontent.com/a-/AOh14Gh5xJtK0npI1YA_guyIgSHCGwXFsMpmhWibCf7f=s64",
      "userId": "12980961804103110882"
     },
     "user_tz": -330
    },
    "id": "DKLeVDK065De"
   },
   "outputs": [],
   "source": [
    "real_df['class'] = 0\n",
    "fake_df['class'] = 1"
   ]
  },
  {
   "cell_type": "code",
   "execution_count": 26,
   "metadata": {
    "colab": {
     "base_uri": "https://localhost:8080/",
     "height": 289
    },
    "executionInfo": {
     "elapsed": 4,
     "status": "ok",
     "timestamp": 1627739182700,
     "user": {
      "displayName": "Nella Kartheek",
      "photoUrl": "https://lh3.googleusercontent.com/a-/AOh14Gh5xJtK0npI1YA_guyIgSHCGwXFsMpmhWibCf7f=s64",
      "userId": "12980961804103110882"
     },
     "user_tz": -330
    },
    "id": "w-Ef2gGN65De",
    "outputId": "b4120819-da17-4ff4-a92a-257ffbf9eecb"
   },
   "outputs": [
    {
     "data": {
      "text/html": [
       "<div>\n",
       "<style scoped>\n",
       "    .dataframe tbody tr th:only-of-type {\n",
       "        vertical-align: middle;\n",
       "    }\n",
       "\n",
       "    .dataframe tbody tr th {\n",
       "        vertical-align: top;\n",
       "    }\n",
       "\n",
       "    .dataframe thead th {\n",
       "        text-align: right;\n",
       "    }\n",
       "</style>\n",
       "<table border=\"1\" class=\"dataframe\">\n",
       "  <thead>\n",
       "    <tr style=\"text-align: right;\">\n",
       "      <th></th>\n",
       "      <th>title</th>\n",
       "      <th>text</th>\n",
       "      <th>subject</th>\n",
       "      <th>date</th>\n",
       "      <th>publisher</th>\n",
       "      <th>class</th>\n",
       "    </tr>\n",
       "  </thead>\n",
       "  <tbody>\n",
       "    <tr>\n",
       "      <th>0</th>\n",
       "      <td>As U.S. budget fight looms, Republicans flip t...</td>\n",
       "      <td>As U.S. budget fight looms, Republicans flip t...</td>\n",
       "      <td>politicsNews</td>\n",
       "      <td>December 31, 2017</td>\n",
       "      <td>WASHINGTON (Reuters)</td>\n",
       "      <td>0</td>\n",
       "    </tr>\n",
       "    <tr>\n",
       "      <th>1</th>\n",
       "      <td>U.S. military to accept transgender recruits o...</td>\n",
       "      <td>U.S. military to accept transgender recruits o...</td>\n",
       "      <td>politicsNews</td>\n",
       "      <td>December 29, 2017</td>\n",
       "      <td>WASHINGTON (Reuters)</td>\n",
       "      <td>0</td>\n",
       "    </tr>\n",
       "    <tr>\n",
       "      <th>2</th>\n",
       "      <td>Senior U.S. Republican senator: 'Let Mr. Muell...</td>\n",
       "      <td>Senior U.S. Republican senator: 'Let Mr. Muell...</td>\n",
       "      <td>politicsNews</td>\n",
       "      <td>December 31, 2017</td>\n",
       "      <td>WASHINGTON (Reuters)</td>\n",
       "      <td>0</td>\n",
       "    </tr>\n",
       "    <tr>\n",
       "      <th>3</th>\n",
       "      <td>FBI Russia probe helped by Australian diplomat...</td>\n",
       "      <td>FBI Russia probe helped by Australian diplomat...</td>\n",
       "      <td>politicsNews</td>\n",
       "      <td>December 30, 2017</td>\n",
       "      <td>WASHINGTON (Reuters)</td>\n",
       "      <td>0</td>\n",
       "    </tr>\n",
       "    <tr>\n",
       "      <th>4</th>\n",
       "      <td>Trump wants Postal Service to charge 'much mor...</td>\n",
       "      <td>Trump wants Postal Service to charge 'much mor...</td>\n",
       "      <td>politicsNews</td>\n",
       "      <td>December 29, 2017</td>\n",
       "      <td>SEATTLE/WASHINGTON (Reuters)</td>\n",
       "      <td>0</td>\n",
       "    </tr>\n",
       "  </tbody>\n",
       "</table>\n",
       "</div>"
      ],
      "text/plain": [
       "                                               title  ... class\n",
       "0  As U.S. budget fight looms, Republicans flip t...  ...     0\n",
       "1  U.S. military to accept transgender recruits o...  ...     0\n",
       "2  Senior U.S. Republican senator: 'Let Mr. Muell...  ...     0\n",
       "3  FBI Russia probe helped by Australian diplomat...  ...     0\n",
       "4  Trump wants Postal Service to charge 'much mor...  ...     0\n",
       "\n",
       "[5 rows x 6 columns]"
      ]
     },
     "execution_count": 26,
     "metadata": {
      "tags": []
     },
     "output_type": "execute_result"
    }
   ],
   "source": [
    "real_df.head()"
   ]
  },
  {
   "cell_type": "code",
   "execution_count": 27,
   "metadata": {
    "executionInfo": {
     "elapsed": 367,
     "status": "ok",
     "timestamp": 1627739184988,
     "user": {
      "displayName": "Nella Kartheek",
      "photoUrl": "https://lh3.googleusercontent.com/a-/AOh14Gh5xJtK0npI1YA_guyIgSHCGwXFsMpmhWibCf7f=s64",
      "userId": "12980961804103110882"
     },
     "user_tz": -330
    },
    "id": "S98gXjFS65De"
   },
   "outputs": [],
   "source": [
    "# collect real and fake data\n",
    "real_data = real_df[['text', 'class']]\n",
    "fake_data = fake_df[['text', 'class']]\n",
    "\n",
    "data = real_data.append(fake_data, ignore_index=True)"
   ]
  },
  {
   "cell_type": "code",
   "execution_count": 28,
   "metadata": {
    "colab": {
     "base_uri": "https://localhost:8080/",
     "height": 204
    },
    "executionInfo": {
     "elapsed": 626,
     "status": "ok",
     "timestamp": 1627739187242,
     "user": {
      "displayName": "Nella Kartheek",
      "photoUrl": "https://lh3.googleusercontent.com/a-/AOh14Gh5xJtK0npI1YA_guyIgSHCGwXFsMpmhWibCf7f=s64",
      "userId": "12980961804103110882"
     },
     "user_tz": -330
    },
    "id": "mcXFu0Se65Df",
    "outputId": "d65b16eb-c04e-443a-b28f-bc5d0fe12e03"
   },
   "outputs": [
    {
     "data": {
      "text/html": [
       "<div>\n",
       "<style scoped>\n",
       "    .dataframe tbody tr th:only-of-type {\n",
       "        vertical-align: middle;\n",
       "    }\n",
       "\n",
       "    .dataframe tbody tr th {\n",
       "        vertical-align: top;\n",
       "    }\n",
       "\n",
       "    .dataframe thead th {\n",
       "        text-align: right;\n",
       "    }\n",
       "</style>\n",
       "<table border=\"1\" class=\"dataframe\">\n",
       "  <thead>\n",
       "    <tr style=\"text-align: right;\">\n",
       "      <th></th>\n",
       "      <th>text</th>\n",
       "      <th>class</th>\n",
       "    </tr>\n",
       "  </thead>\n",
       "  <tbody>\n",
       "    <tr>\n",
       "      <th>0</th>\n",
       "      <td>As U.S. budget fight looms, Republicans flip t...</td>\n",
       "      <td>0</td>\n",
       "    </tr>\n",
       "    <tr>\n",
       "      <th>1</th>\n",
       "      <td>U.S. military to accept transgender recruits o...</td>\n",
       "      <td>0</td>\n",
       "    </tr>\n",
       "    <tr>\n",
       "      <th>2</th>\n",
       "      <td>Senior U.S. Republican senator: 'Let Mr. Muell...</td>\n",
       "      <td>0</td>\n",
       "    </tr>\n",
       "    <tr>\n",
       "      <th>3</th>\n",
       "      <td>FBI Russia probe helped by Australian diplomat...</td>\n",
       "      <td>0</td>\n",
       "    </tr>\n",
       "    <tr>\n",
       "      <th>4</th>\n",
       "      <td>Trump wants Postal Service to charge 'much mor...</td>\n",
       "      <td>0</td>\n",
       "    </tr>\n",
       "  </tbody>\n",
       "</table>\n",
       "</div>"
      ],
      "text/plain": [
       "                                                text  class\n",
       "0  As U.S. budget fight looms, Republicans flip t...      0\n",
       "1  U.S. military to accept transgender recruits o...      0\n",
       "2  Senior U.S. Republican senator: 'Let Mr. Muell...      0\n",
       "3  FBI Russia probe helped by Australian diplomat...      0\n",
       "4  Trump wants Postal Service to charge 'much mor...      0"
      ]
     },
     "execution_count": 28,
     "metadata": {
      "tags": []
     },
     "output_type": "execute_result"
    }
   ],
   "source": [
    "data.head()"
   ]
  },
  {
   "cell_type": "code",
   "execution_count": 29,
   "metadata": {
    "colab": {
     "base_uri": "https://localhost:8080/",
     "height": 204
    },
    "executionInfo": {
     "elapsed": 13,
     "status": "ok",
     "timestamp": 1627739188527,
     "user": {
      "displayName": "Nella Kartheek",
      "photoUrl": "https://lh3.googleusercontent.com/a-/AOh14Gh5xJtK0npI1YA_guyIgSHCGwXFsMpmhWibCf7f=s64",
      "userId": "12980961804103110882"
     },
     "user_tz": -330
    },
    "id": "8vQxE7S_65Df",
    "outputId": "66cf0ede-043c-41f5-af76-4aec1f9703ca"
   },
   "outputs": [
    {
     "data": {
      "text/html": [
       "<div>\n",
       "<style scoped>\n",
       "    .dataframe tbody tr th:only-of-type {\n",
       "        vertical-align: middle;\n",
       "    }\n",
       "\n",
       "    .dataframe tbody tr th {\n",
       "        vertical-align: top;\n",
       "    }\n",
       "\n",
       "    .dataframe thead th {\n",
       "        text-align: right;\n",
       "    }\n",
       "</style>\n",
       "<table border=\"1\" class=\"dataframe\">\n",
       "  <thead>\n",
       "    <tr style=\"text-align: right;\">\n",
       "      <th></th>\n",
       "      <th>text</th>\n",
       "      <th>class</th>\n",
       "    </tr>\n",
       "  </thead>\n",
       "  <tbody>\n",
       "    <tr>\n",
       "      <th>44892</th>\n",
       "      <td>McPain: John McCain Furious That Iran Treated ...</td>\n",
       "      <td>1</td>\n",
       "    </tr>\n",
       "    <tr>\n",
       "      <th>44893</th>\n",
       "      <td>JUSTICE? Yahoo Settles E-mail Privacy Class-ac...</td>\n",
       "      <td>1</td>\n",
       "    </tr>\n",
       "    <tr>\n",
       "      <th>44894</th>\n",
       "      <td>Sunnistan: US and Allied ‘Safe Zone’ Plan to T...</td>\n",
       "      <td>1</td>\n",
       "    </tr>\n",
       "    <tr>\n",
       "      <th>44895</th>\n",
       "      <td>How to Blow $700 Million: Al Jazeera America F...</td>\n",
       "      <td>1</td>\n",
       "    </tr>\n",
       "    <tr>\n",
       "      <th>44896</th>\n",
       "      <td>10 U.S. Navy Sailors Held by Iranian Military ...</td>\n",
       "      <td>1</td>\n",
       "    </tr>\n",
       "  </tbody>\n",
       "</table>\n",
       "</div>"
      ],
      "text/plain": [
       "                                                    text  class\n",
       "44892  McPain: John McCain Furious That Iran Treated ...      1\n",
       "44893  JUSTICE? Yahoo Settles E-mail Privacy Class-ac...      1\n",
       "44894  Sunnistan: US and Allied ‘Safe Zone’ Plan to T...      1\n",
       "44895  How to Blow $700 Million: Al Jazeera America F...      1\n",
       "44896  10 U.S. Navy Sailors Held by Iranian Military ...      1"
      ]
     },
     "execution_count": 29,
     "metadata": {
      "tags": []
     },
     "output_type": "execute_result"
    }
   ],
   "source": [
    "data.tail()"
   ]
  },
  {
   "cell_type": "code",
   "execution_count": 30,
   "metadata": {
    "colab": {
     "base_uri": "https://localhost:8080/"
    },
    "executionInfo": {
     "elapsed": 3,
     "status": "ok",
     "timestamp": 1627739189577,
     "user": {
      "displayName": "Nella Kartheek",
      "photoUrl": "https://lh3.googleusercontent.com/a-/AOh14Gh5xJtK0npI1YA_guyIgSHCGwXFsMpmhWibCf7f=s64",
      "userId": "12980961804103110882"
     },
     "user_tz": -330
    },
    "id": "gesRTmDh65Df",
    "outputId": "197f96db-8760-4ce7-faf6-2b303155806f"
   },
   "outputs": [
    {
     "data": {
      "text/plain": [
       "(44897, 2)"
      ]
     },
     "execution_count": 30,
     "metadata": {
      "tags": []
     },
     "output_type": "execute_result"
    }
   ],
   "source": [
    "data.shape"
   ]
  },
  {
   "cell_type": "code",
   "execution_count": 31,
   "metadata": {
    "executionInfo": {
     "elapsed": 5,
     "status": "ok",
     "timestamp": 1627739190185,
     "user": {
      "displayName": "Nella Kartheek",
      "photoUrl": "https://lh3.googleusercontent.com/a-/AOh14Gh5xJtK0npI1YA_guyIgSHCGwXFsMpmhWibCf7f=s64",
      "userId": "12980961804103110882"
     },
     "user_tz": -330
    },
    "id": "XaCjKWBV65Df"
   },
   "outputs": [],
   "source": [
    "def TrainTestSplit(data):\n",
    "    df = data.copy() # copy the data so that there is no change in the previous object.\n",
    "    \n",
    "    filt = df['class'] == 0\n",
    "    Test_0 = df.loc[filt].sample(2000, random_state=0)\n",
    "    \n",
    "    filt = df['class'] == 1\n",
    "    Test_1 = df.loc[filt].sample(2000, random_state=0)\n",
    "    \n",
    "    Test_data = Test_0.append(Test_1, ignore_index=True)\n",
    "    Train_data = df.drop(Test_data.index, axis=0)\n",
    "    \n",
    "    return Train_data.sample(Train_data.shape[0], random_state=0), Test_data.sample(Test_data.shape[0], random_state=0)"
   ]
  },
  {
   "cell_type": "code",
   "execution_count": 32,
   "metadata": {
    "executionInfo": {
     "elapsed": 2,
     "status": "ok",
     "timestamp": 1627739190820,
     "user": {
      "displayName": "Nella Kartheek",
      "photoUrl": "https://lh3.googleusercontent.com/a-/AOh14Gh5xJtK0npI1YA_guyIgSHCGwXFsMpmhWibCf7f=s64",
      "userId": "12980961804103110882"
     },
     "user_tz": -330
    },
    "id": "hzrUo-5U65Df"
   },
   "outputs": [],
   "source": [
    "Train_data, Test_data = TrainTestSplit(data)"
   ]
  },
  {
   "cell_type": "code",
   "execution_count": 33,
   "metadata": {
    "colab": {
     "base_uri": "https://localhost:8080/",
     "height": 204
    },
    "executionInfo": {
     "elapsed": 7,
     "status": "ok",
     "timestamp": 1627739191911,
     "user": {
      "displayName": "Nella Kartheek",
      "photoUrl": "https://lh3.googleusercontent.com/a-/AOh14Gh5xJtK0npI1YA_guyIgSHCGwXFsMpmhWibCf7f=s64",
      "userId": "12980961804103110882"
     },
     "user_tz": -330
    },
    "id": "kq4j_zwj65Dg",
    "outputId": "3c1fdf17-3c62-4f71-afa7-824c0f0c921a"
   },
   "outputs": [
    {
     "data": {
      "text/html": [
       "<div>\n",
       "<style scoped>\n",
       "    .dataframe tbody tr th:only-of-type {\n",
       "        vertical-align: middle;\n",
       "    }\n",
       "\n",
       "    .dataframe tbody tr th {\n",
       "        vertical-align: top;\n",
       "    }\n",
       "\n",
       "    .dataframe thead th {\n",
       "        text-align: right;\n",
       "    }\n",
       "</style>\n",
       "<table border=\"1\" class=\"dataframe\">\n",
       "  <thead>\n",
       "    <tr style=\"text-align: right;\">\n",
       "      <th></th>\n",
       "      <th>text</th>\n",
       "      <th>class</th>\n",
       "    </tr>\n",
       "  </thead>\n",
       "  <tbody>\n",
       "    <tr>\n",
       "      <th>5801</th>\n",
       "      <td>Nearly half of Britons back Trump state visit:...</td>\n",
       "      <td>0</td>\n",
       "    </tr>\n",
       "    <tr>\n",
       "      <th>35218</th>\n",
       "      <td>BEST EVER CROOKED HILLARY Collection Of Lies A...</td>\n",
       "      <td>1</td>\n",
       "    </tr>\n",
       "    <tr>\n",
       "      <th>10573</th>\n",
       "      <td>South Dakota governor vetoes transgender bathr...</td>\n",
       "      <td>0</td>\n",
       "    </tr>\n",
       "    <tr>\n",
       "      <th>10253</th>\n",
       "      <td>McConnell rules out action this year on high c...</td>\n",
       "      <td>0</td>\n",
       "    </tr>\n",
       "    <tr>\n",
       "      <th>41240</th>\n",
       "      <td>WOW! DID “Open Borders” Paul Ryan’s Top Adviso...</td>\n",
       "      <td>1</td>\n",
       "    </tr>\n",
       "  </tbody>\n",
       "</table>\n",
       "</div>"
      ],
      "text/plain": [
       "                                                    text  class\n",
       "5801   Nearly half of Britons back Trump state visit:...      0\n",
       "35218  BEST EVER CROOKED HILLARY Collection Of Lies A...      1\n",
       "10573  South Dakota governor vetoes transgender bathr...      0\n",
       "10253  McConnell rules out action this year on high c...      0\n",
       "41240  WOW! DID “Open Borders” Paul Ryan’s Top Adviso...      1"
      ]
     },
     "execution_count": 33,
     "metadata": {
      "tags": []
     },
     "output_type": "execute_result"
    }
   ],
   "source": [
    "Train_data.head()"
   ]
  },
  {
   "cell_type": "code",
   "execution_count": 34,
   "metadata": {
    "colab": {
     "base_uri": "https://localhost:8080/"
    },
    "executionInfo": {
     "elapsed": 2,
     "status": "ok",
     "timestamp": 1627739192457,
     "user": {
      "displayName": "Nella Kartheek",
      "photoUrl": "https://lh3.googleusercontent.com/a-/AOh14Gh5xJtK0npI1YA_guyIgSHCGwXFsMpmhWibCf7f=s64",
      "userId": "12980961804103110882"
     },
     "user_tz": -330
    },
    "id": "wvzd-iLM65Dg",
    "outputId": "96929d15-2231-4c1a-e904-1a08f04e2f52"
   },
   "outputs": [
    {
     "data": {
      "text/plain": [
       "1    23481\n",
       "0    17416\n",
       "Name: class, dtype: int64"
      ]
     },
     "execution_count": 34,
     "metadata": {
      "tags": []
     },
     "output_type": "execute_result"
    }
   ],
   "source": [
    "Train_data['class'].value_counts()"
   ]
  },
  {
   "cell_type": "code",
   "execution_count": 35,
   "metadata": {
    "colab": {
     "base_uri": "https://localhost:8080/"
    },
    "executionInfo": {
     "elapsed": 2,
     "status": "ok",
     "timestamp": 1627739193433,
     "user": {
      "displayName": "Nella Kartheek",
      "photoUrl": "https://lh3.googleusercontent.com/a-/AOh14Gh5xJtK0npI1YA_guyIgSHCGwXFsMpmhWibCf7f=s64",
      "userId": "12980961804103110882"
     },
     "user_tz": -330
    },
    "id": "txWL2UFk65Dg",
    "outputId": "59da80ae-a1db-435b-c33e-e90faeb0bd8f"
   },
   "outputs": [
    {
     "data": {
      "text/plain": [
       "1    2000\n",
       "0    2000\n",
       "Name: class, dtype: int64"
      ]
     },
     "execution_count": 35,
     "metadata": {
      "tags": []
     },
     "output_type": "execute_result"
    }
   ],
   "source": [
    "Test_data['class'].value_counts()"
   ]
  },
  {
   "cell_type": "markdown",
   "metadata": {
    "id": "08IJ2-Zj65Dg"
   },
   "source": [
    "<a id=\"clean\"></a>\n",
    "### Data Cleaning"
   ]
  },
  {
   "cell_type": "code",
   "execution_count": 36,
   "metadata": {
    "colab": {
     "base_uri": "https://localhost:8080/"
    },
    "executionInfo": {
     "elapsed": 8,
     "status": "ok",
     "timestamp": 1627739194142,
     "user": {
      "displayName": "Nella Kartheek",
      "photoUrl": "https://lh3.googleusercontent.com/a-/AOh14Gh5xJtK0npI1YA_guyIgSHCGwXFsMpmhWibCf7f=s64",
      "userId": "12980961804103110882"
     },
     "user_tz": -330
    },
    "id": "N6LxGH6765Dg",
    "outputId": "8a513d03-6344-4b27-f1a2-bd55fc3f1dee"
   },
   "outputs": [
    {
     "name": "stdout",
     "output_type": "stream",
     "text": [
      "you\n",
      "I would\n",
      "we will have\n"
     ]
    }
   ],
   "source": [
    "import contractions as cont # to fix the contractions we use this library\n",
    "\n",
    "print(cont.fix(\"u\"))\n",
    "print(cont.fix(\"i'd\"))\n",
    "print(cont.fix(\"we'll've\"))"
   ]
  },
  {
   "cell_type": "code",
   "execution_count": 37,
   "metadata": {
    "executionInfo": {
     "elapsed": 3,
     "status": "ok",
     "timestamp": 1627739195737,
     "user": {
      "displayName": "Nella Kartheek",
      "photoUrl": "https://lh3.googleusercontent.com/a-/AOh14Gh5xJtK0npI1YA_guyIgSHCGwXFsMpmhWibCf7f=s64",
      "userId": "12980961804103110882"
     },
     "user_tz": -330
    },
    "id": "WFXvwfrz65Dh"
   },
   "outputs": [],
   "source": [
    "from bs4 import BeautifulSoup\n",
    "import re\n",
    "import unicodedata\n",
    "import contractions as cont # to fix the contractions we use this library\n",
    "\n",
    "def DataCleaner(x):\n",
    "    x = BeautifulSoup(x, 'html.parser').get_text() # remove html tags\n",
    "    x = re.sub(r'(http|ftp|https)\\S+\\s*', '', x)  # remove URLs\n",
    "    x = re.sub(r'([a-zA-Z0-9+._-]+@[a-zA-Z0-9._-]+\\.[a-zA-Z0-9_-]+)', '', x) # remove Emails\n",
    "    x = unicodedata.normalize('NFKD', x).encode('ascii', 'ignore').decode('utf-8', 'ignore') # remove Accented Text\n",
    "    x = \" \".join([cont.fix(word.lower()) for word in x.split()]) # we expand the contraction of words\n",
    "    x = re.sub('[^a-zA-Z0-9]+', ' ', x) # here we replace all with a space character except for Alpha numericals.\n",
    "    x = x.lower()\n",
    "    \n",
    "    # removing unwanted words that has a text length of 1 like 't', 's' etc\n",
    "    useful_chars = ['a', 'i', '0', '1', '2', '3', '4', '5', '6', '7', '8', '9']\n",
    "    x = \" \".join([word for word in x.split() if len(word) != 1 or word in useful_chars])\n",
    "    \n",
    "    # correct some words like 're' to 'are' etc\n",
    "    correct = {'re' : 'are', 'couldn' : 'could not'}\n",
    "    x = \" \".join([correct[word] if word in correct.keys() else word for word in x.split()])\n",
    "\n",
    "    return x\n"
   ]
  },
  {
   "cell_type": "markdown",
   "metadata": {
    "id": "M5R5G8NJ65Dh"
   },
   "source": [
    "**clean Train Data**"
   ]
  },
  {
   "cell_type": "code",
   "execution_count": 38,
   "metadata": {
    "colab": {
     "base_uri": "https://localhost:8080/"
    },
    "executionInfo": {
     "elapsed": 72025,
     "status": "ok",
     "timestamp": 1627739269002,
     "user": {
      "displayName": "Nella Kartheek",
      "photoUrl": "https://lh3.googleusercontent.com/a-/AOh14Gh5xJtK0npI1YA_guyIgSHCGwXFsMpmhWibCf7f=s64",
      "userId": "12980961804103110882"
     },
     "user_tz": -330
    },
    "id": "0l4wXswR65Dh",
    "outputId": "3854d173-c9d9-42b6-ec21-c1e14003de4a"
   },
   "outputs": [
    {
     "name": "stdout",
     "output_type": "stream",
     "text": [
      "CPU times: user 1min 10s, sys: 321 ms, total: 1min 11s\n",
      "Wall time: 1min 11s\n"
     ]
    }
   ],
   "source": [
    "%%time\n",
    "Train_data['text'] = Train_data['text'].apply(lambda x: DataCleaner(x))\n",
    "Train_data.head()"
   ]
  },
  {
   "cell_type": "markdown",
   "metadata": {
    "id": "4g641DI565Dh"
   },
   "source": [
    "**clean Test Data**"
   ]
  },
  {
   "cell_type": "code",
   "execution_count": 40,
   "metadata": {
    "colab": {
     "base_uri": "https://localhost:8080/"
    },
    "executionInfo": {
     "elapsed": 7994,
     "status": "ok",
     "timestamp": 1627739289641,
     "user": {
      "displayName": "Nella Kartheek",
      "photoUrl": "https://lh3.googleusercontent.com/a-/AOh14Gh5xJtK0npI1YA_guyIgSHCGwXFsMpmhWibCf7f=s64",
      "userId": "12980961804103110882"
     },
     "user_tz": -330
    },
    "id": "_Pmu-NyR65Dh",
    "outputId": "8f839bab-faee-4fa2-c591-28d9077fa07c"
   },
   "outputs": [
    {
     "name": "stdout",
     "output_type": "stream",
     "text": [
      "CPU times: user 7.39 s, sys: 53.9 ms, total: 7.44 s\n",
      "Wall time: 7.44 s\n"
     ]
    }
   ],
   "source": [
    "%%time\n",
    "Test_data['text'] = Test_data['text'].apply(lambda x: DataCleaner(x))\n",
    "Test_data.head()"
   ]
  },
  {
   "cell_type": "code",
   "execution_count": 41,
   "metadata": {
    "colab": {
     "base_uri": "https://localhost:8080/",
     "height": 171
    },
    "executionInfo": {
     "elapsed": 6,
     "status": "ok",
     "timestamp": 1627739290860,
     "user": {
      "displayName": "Nella Kartheek",
      "photoUrl": "https://lh3.googleusercontent.com/a-/AOh14Gh5xJtK0npI1YA_guyIgSHCGwXFsMpmhWibCf7f=s64",
      "userId": "12980961804103110882"
     },
     "user_tz": -330
    },
    "id": "_8Pe3tPW65Di",
    "outputId": "5be4eb87-136c-41b1-daed-f4d14f0fc561"
   },
   "outputs": [
    {
     "data": {
      "application/vnd.google.colaboratory.intrinsic+json": {
       "type": "string"
      },
      "text/plain": [
       "'nearly half of britons back trump state visit yougov poll around half of britons believe you president donald trumps planned uk state visit should go ahead even though a similar number would not like to see his controversial migrant ban implemented in britain according to a poll on wednesday trumps executive order to temporarily ban refugees entering the united states and limit migration from seven muslim majority countries has drawn widespread protest in britain and nearly 1 8 million people have signed a petition to stop his state visit planned for later this year but the yougov poll found 49 percent of britons believe the state visit should go ahead and that only 36 percent want it to be canceled a state visit would involve lavish displays of royal pageantry and a banquet hosted by queen elizabeth the invitation was conveyed by prime minister theresa may when she visited washington last week just hours before the travel ban was introduced britons would not like to see a similar migrant ban introduced in the uk however with 32 percent saying they would feel appalled by such a move and 17 percent disappointed only 15 percent were delighted by the prospect of similar immigration restrictions in britain while 13 percent said they would be pleased the petition to stop the visit will be debated in the british parliament on february 20 although such debates are usually symbolic may has stood by the decision to invite trump the poll was conducted between january 30 31 in all 1 705 people were asked their views on the state visit and 6 926 were asked about any immigration ban in britain'"
      ]
     },
     "execution_count": 41,
     "metadata": {
      "tags": []
     },
     "output_type": "execute_result"
    }
   ],
   "source": [
    "Train_data.text.iloc[0]"
   ]
  },
  {
   "cell_type": "markdown",
   "metadata": {},
   "source": [
    "<a id=\"word2vec\"></a>\n",
    "### Word2Vectors Creation"
   ]
  },
  {
   "cell_type": "code",
   "execution_count": 42,
   "metadata": {
    "colab": {
     "base_uri": "https://localhost:8080/"
    },
    "executionInfo": {
     "elapsed": 7,
     "status": "ok",
     "timestamp": 1627739292195,
     "user": {
      "displayName": "Nella Kartheek",
      "photoUrl": "https://lh3.googleusercontent.com/a-/AOh14Gh5xJtK0npI1YA_guyIgSHCGwXFsMpmhWibCf7f=s64",
      "userId": "12980961804103110882"
     },
     "user_tz": -330
    },
    "id": "qZgR8Iga65Di",
    "outputId": "72898056-34cf-4447-ca58-58754eccc487"
   },
   "outputs": [
    {
     "name": "stderr",
     "output_type": "stream",
     "text": [
      "/usr/local/lib/python3.7/dist-packages/gensim/similarities/__init__.py:15: UserWarning: The gensim.similarities.levenshtein submodule is disabled, because the optional Levenshtein package <https://pypi.org/project/python-Levenshtein/> is unavailable. Install Levenhstein (e.g. `pip install python-Levenshtein`) to suppress this warning.\n",
      "  warnings.warn(msg)\n"
     ]
    }
   ],
   "source": [
    "import gensim"
   ]
  },
  {
   "cell_type": "code",
   "execution_count": 43,
   "metadata": {
    "executionInfo": {
     "elapsed": 2285,
     "status": "ok",
     "timestamp": 1627739297337,
     "user": {
      "displayName": "Nella Kartheek",
      "photoUrl": "https://lh3.googleusercontent.com/a-/AOh14Gh5xJtK0npI1YA_guyIgSHCGwXFsMpmhWibCf7f=s64",
      "userId": "12980961804103110882"
     },
     "user_tz": -330
    },
    "id": "yG9uI7Ts65Di"
   },
   "outputs": [],
   "source": [
    "# get the x and y values for train data\n",
    "\n",
    "y_train = Train_data['class'].values\n",
    "x_train = [sent.split() for sent in Train_data['text'].tolist()]"
   ]
  },
  {
   "cell_type": "code",
   "execution_count": 44,
   "metadata": {
    "executionInfo": {
     "elapsed": 623,
     "status": "ok",
     "timestamp": 1627739297959,
     "user": {
      "displayName": "Nella Kartheek",
      "photoUrl": "https://lh3.googleusercontent.com/a-/AOh14Gh5xJtK0npI1YA_guyIgSHCGwXFsMpmhWibCf7f=s64",
      "userId": "12980961804103110882"
     },
     "user_tz": -330
    },
    "id": "qY-h_gh165Di",
    "scrolled": false
   },
   "outputs": [],
   "source": [
    "# get the x and y values for test data\n",
    "\n",
    "y_test = Test_data['class'].values\n",
    "x_test = [sent.split() for sent in Test_data['text'].tolist()]"
   ]
  },
  {
   "cell_type": "code",
   "execution_count": 45,
   "metadata": {
    "colab": {
     "base_uri": "https://localhost:8080/"
    },
    "executionInfo": {
     "elapsed": 131962,
     "status": "ok",
     "timestamp": 1627739429919,
     "user": {
      "displayName": "Nella Kartheek",
      "photoUrl": "https://lh3.googleusercontent.com/a-/AOh14Gh5xJtK0npI1YA_guyIgSHCGwXFsMpmhWibCf7f=s64",
      "userId": "12980961804103110882"
     },
     "user_tz": -330
    },
    "id": "_0CZ5SRd65Di",
    "outputId": "4846fd02-13f3-40a8-df95-b06c98618834"
   },
   "outputs": [
    {
     "name": "stdout",
     "output_type": "stream",
     "text": [
      "CPU times: user 4min 8s, sys: 1.07 s, total: 4min 9s\n",
      "Wall time: 2min 11s\n"
     ]
    }
   ],
   "source": [
    "%%time\n",
    "vec_size= 100 # make each word to a vector of 100 dimensions\n",
    "\n",
    "# window=10 means ngrams=10 ie 10 consecutive words to be taken into consideration to get a vector of each word.\n",
    "# min_count=1 means we want to generate a vector if we also have a single word\n",
    "w2v_model = gensim.models.Word2Vec(sentences= x_train, vector_size=vec_size, window=10, min_count=1)"
   ]
  },
  {
   "cell_type": "code",
   "execution_count": 46,
   "metadata": {
    "colab": {
     "base_uri": "https://localhost:8080/"
    },
    "executionInfo": {
     "elapsed": 389,
     "status": "ok",
     "timestamp": 1627739433915,
     "user": {
      "displayName": "Nella Kartheek",
      "photoUrl": "https://lh3.googleusercontent.com/a-/AOh14Gh5xJtK0npI1YA_guyIgSHCGwXFsMpmhWibCf7f=s64",
      "userId": "12980961804103110882"
     },
     "user_tz": -330
    },
    "id": "QtpiI37v65Dj",
    "outputId": "d0b943d2-08ba-470a-df33-fe1154a7fae5"
   },
   "outputs": [
    {
     "name": "stdout",
     "output_type": "stream",
     "text": [
      "we had got total of 117089 word to vectors.\n"
     ]
    }
   ],
   "source": [
    "print(\"we had got total of {} word to vectors.\".format(w2v_model.wv.__len__()))"
   ]
  },
  {
   "cell_type": "code",
   "execution_count": 47,
   "metadata": {
    "executionInfo": {
     "elapsed": 6,
     "status": "ok",
     "timestamp": 1627739435195,
     "user": {
      "displayName": "Nella Kartheek",
      "photoUrl": "https://lh3.googleusercontent.com/a-/AOh14Gh5xJtK0npI1YA_guyIgSHCGwXFsMpmhWibCf7f=s64",
      "userId": "12980961804103110882"
     },
     "user_tz": -330
    },
    "id": "EKo1lCja65Dj"
   },
   "outputs": [],
   "source": [
    "#w2v_model.wv.key_to_index"
   ]
  },
  {
   "cell_type": "code",
   "execution_count": 48,
   "metadata": {
    "colab": {
     "base_uri": "https://localhost:8080/"
    },
    "executionInfo": {
     "elapsed": 2,
     "status": "ok",
     "timestamp": 1627739435572,
     "user": {
      "displayName": "Nella Kartheek",
      "photoUrl": "https://lh3.googleusercontent.com/a-/AOh14Gh5xJtK0npI1YA_guyIgSHCGwXFsMpmhWibCf7f=s64",
      "userId": "12980961804103110882"
     },
     "user_tz": -330
    },
    "id": "I6dKameN65Dj",
    "outputId": "e694c97a-d3a8-48f5-dadc-a8dd075c329a"
   },
   "outputs": [
    {
     "data": {
      "text/plain": [
       "array([ 1.5468986 , -2.5376434 ,  2.262644  ,  0.51213264,  3.2169807 ,\n",
       "        1.724024  , -0.44542667, -0.64427555,  4.978615  ,  1.4042556 ,\n",
       "       -1.5548543 , -2.60616   , -3.0752873 ,  1.1066085 ,  0.82004166,\n",
       "       -1.6338763 ,  2.6256974 , -1.1456138 ,  4.1500893 , -2.5260015 ,\n",
       "       -0.587879  ,  2.887669  , -3.877178  ,  4.8838167 , -0.65529203,\n",
       "        1.6525444 , -4.320244  ,  6.4872937 , -0.28683546, -0.98761094,\n",
       "       -2.3698943 , -0.7445454 , -0.16969658,  1.3890797 ,  0.39325052,\n",
       "       -1.2931658 , -3.126473  , -3.002089  ,  1.1767735 ,  0.41902307,\n",
       "       -3.4854908 ,  3.3530028 , -0.28601387,  0.7817887 , -5.0277305 ,\n",
       "       -1.0603456 ,  1.4543375 , -0.03258251, -3.0438218 ,  2.5399914 ,\n",
       "        3.5849574 , -2.1922886 ,  0.69063425, -3.0937295 ,  1.2537497 ,\n",
       "       -3.3739266 , -1.5660471 , -0.23168601,  4.3450074 ,  4.188537  ,\n",
       "       -4.8009057 , -0.22576772, -4.5859704 , -1.2081051 , -3.1114173 ,\n",
       "        1.753026  , -0.6850738 ,  0.6063394 , -0.25938317, -3.5501509 ,\n",
       "        3.3481388 , -3.1371906 ,  1.6874547 , -0.4480537 ,  2.8386216 ,\n",
       "        3.1426806 ,  0.26270592,  4.2073674 , -1.9052207 , -0.7961531 ,\n",
       "       -0.1878012 ,  1.9038987 ,  1.5241288 ,  1.8293173 ,  3.304244  ,\n",
       "        4.3955355 , -0.7992315 , -3.9396107 ,  0.61297405,  1.2210493 ,\n",
       "        1.637701  , -2.3338542 ,  2.0913315 , -0.92038506, -2.7688818 ,\n",
       "       -3.2151272 ,  3.4759197 ,  3.227337  ,  1.0281078 ,  1.2317032 ],\n",
       "      dtype=float32)"
      ]
     },
     "execution_count": 48,
     "metadata": {
      "tags": []
     },
     "output_type": "execute_result"
    }
   ],
   "source": [
    "w2v_model.wv.get_vector('trump')"
   ]
  },
  {
   "cell_type": "code",
   "execution_count": 49,
   "metadata": {
    "executionInfo": {
     "elapsed": 10486,
     "status": "ok",
     "timestamp": 1627739451412,
     "user": {
      "displayName": "Nella Kartheek",
      "photoUrl": "https://lh3.googleusercontent.com/a-/AOh14Gh5xJtK0npI1YA_guyIgSHCGwXFsMpmhWibCf7f=s64",
      "userId": "12980961804103110882"
     },
     "user_tz": -330
    },
    "id": "hnGIQMZ465Dj"
   },
   "outputs": [],
   "source": [
    "from tensorflow.keras.preprocessing.text import Tokenizer\n",
    "\n",
    "tokenizer = Tokenizer()\n",
    "tokenizer.fit_on_texts(x_train)"
   ]
  },
  {
   "cell_type": "code",
   "execution_count": 50,
   "metadata": {
    "executionInfo": {
     "elapsed": 7974,
     "status": "ok",
     "timestamp": 1627739462850,
     "user": {
      "displayName": "Nella Kartheek",
      "photoUrl": "https://lh3.googleusercontent.com/a-/AOh14Gh5xJtK0npI1YA_guyIgSHCGwXFsMpmhWibCf7f=s64",
      "userId": "12980961804103110882"
     },
     "user_tz": -330
    },
    "id": "L8RkxdXV65Dj"
   },
   "outputs": [],
   "source": [
    "# convert texts to sequences on train data\n",
    "\n",
    "x_train_seq = tokenizer.texts_to_sequences(x_train)"
   ]
  },
  {
   "cell_type": "code",
   "execution_count": 51,
   "metadata": {
    "executionInfo": {
     "elapsed": 662,
     "status": "ok",
     "timestamp": 1627739463508,
     "user": {
      "displayName": "Nella Kartheek",
      "photoUrl": "https://lh3.googleusercontent.com/a-/AOh14Gh5xJtK0npI1YA_guyIgSHCGwXFsMpmhWibCf7f=s64",
      "userId": "12980961804103110882"
     },
     "user_tz": -330
    },
    "id": "_D91EI6F65Dk"
   },
   "outputs": [],
   "source": [
    "# convert texts to sequences on test data\n",
    "\n",
    "x_test_seq = tokenizer.texts_to_sequences(x_test)"
   ]
  },
  {
   "cell_type": "code",
   "execution_count": 52,
   "metadata": {
    "colab": {
     "base_uri": "https://localhost:8080/"
    },
    "executionInfo": {
     "elapsed": 5,
     "status": "ok",
     "timestamp": 1627739463509,
     "user": {
      "displayName": "Nella Kartheek",
      "photoUrl": "https://lh3.googleusercontent.com/a-/AOh14Gh5xJtK0npI1YA_guyIgSHCGwXFsMpmhWibCf7f=s64",
      "userId": "12980961804103110882"
     },
     "user_tz": -330
    },
    "id": "uhAG1we065Dk",
    "outputId": "d88514da-73d1-4672-c135-c2d7c92acaea"
   },
   "outputs": [
    {
     "data": {
      "text/plain": [
       "117090"
      ]
     },
     "execution_count": 52,
     "metadata": {
      "tags": []
     },
     "output_type": "execute_result"
    }
   ],
   "source": [
    "vocab_size = len(tokenizer.index_word) +1\n",
    "vocab_size"
   ]
  },
  {
   "cell_type": "code",
   "execution_count": 53,
   "metadata": {
    "colab": {
     "base_uri": "https://localhost:8080/"
    },
    "executionInfo": {
     "elapsed": 588,
     "status": "ok",
     "timestamp": 1627739466981,
     "user": {
      "displayName": "Nella Kartheek",
      "photoUrl": "https://lh3.googleusercontent.com/a-/AOh14Gh5xJtK0npI1YA_guyIgSHCGwXFsMpmhWibCf7f=s64",
      "userId": "12980961804103110882"
     },
     "user_tz": -330
    },
    "id": "OtHuRIHd65Dk",
    "outputId": "0c057f68-386a-4d3b-abd0-7ae914ad8ae3"
   },
   "outputs": [
    {
     "name": "stdout",
     "output_type": "stream",
     "text": [
      "maximum sentence length = 8229 and its index= 10701\n"
     ]
    }
   ],
   "source": [
    "# get the max senence length and it's index\n",
    "\n",
    "max_sent_len = 0\n",
    "max_sent_ind = 0\n",
    "for i,sent in enumerate(x_train_seq):\n",
    "    if max_sent_len < len(sent):\n",
    "        max_sent_len = len(sent)\n",
    "        max_sent_ind = i\n",
    "print(\"maximum sentence length = {} and its index= {}\".format(max_sent_len, max_sent_ind))"
   ]
  },
  {
   "cell_type": "code",
   "execution_count": null,
   "metadata": {
    "colab": {
     "base_uri": "https://localhost:8080/",
     "height": 497
    },
    "executionInfo": {
     "elapsed": 1720,
     "status": "ok",
     "timestamp": 1627658970223,
     "user": {
      "displayName": "Nella Kartheek",
      "photoUrl": "https://lh3.googleusercontent.com/a-/AOh14Gh5xJtK0npI1YA_guyIgSHCGwXFsMpmhWibCf7f=s64",
      "userId": "12980961804103110882"
     },
     "user_tz": -330
    },
    "id": "6MWrXuQc65Dk",
    "outputId": "1b3c555f-1c8e-4f8e-8b7c-e783b11e26e6"
   },
   "outputs": [
    {
     "data": {
      "image/png": "[encoded data removed]",
      "text/plain": [
       "<Figure size 720x576 with 1 Axes>"
      ]
     },
     "metadata": {
      "tags": []
     },
     "output_type": "display_data"
    }
   ],
   "source": [
    "plt.figure(figsize=(10,8))\n",
    "plt.hist([len(x) for x in x_train_seq], bins=700)\n",
    "plt.xlabel('sentence Length')\n",
    "plt.ylabel('count')\n",
    "plt.show()"
   ]
  },
  {
   "cell_type": "markdown",
   "metadata": {
    "id": "uo6ub8rd65Dk"
   },
   "source": [
    "* we observe that most of the sentence length are fallen below 1000, it's better to **truncate** all sentences to **1000** length"
   ]
  },
  {
   "cell_type": "code",
   "execution_count": 54,
   "metadata": {
    "executionInfo": {
     "elapsed": 3,
     "status": "ok",
     "timestamp": 1627739472775,
     "user": {
      "displayName": "Nella Kartheek",
      "photoUrl": "https://lh3.googleusercontent.com/a-/AOh14Gh5xJtK0npI1YA_guyIgSHCGwXFsMpmhWibCf7f=s64",
      "userId": "12980961804103110882"
     },
     "user_tz": -330
    },
    "id": "gV1cJVWB65Dk"
   },
   "outputs": [],
   "source": [
    "from tensorflow.keras.preprocessing.sequence import pad_sequences"
   ]
  },
  {
   "cell_type": "code",
   "execution_count": 55,
   "metadata": {
    "executionInfo": {
     "elapsed": 2590,
     "status": "ok",
     "timestamp": 1627739476029,
     "user": {
      "displayName": "Nella Kartheek",
      "photoUrl": "https://lh3.googleusercontent.com/a-/AOh14Gh5xJtK0npI1YA_guyIgSHCGwXFsMpmhWibCf7f=s64",
      "userId": "12980961804103110882"
     },
     "user_tz": -330
    },
    "id": "ualBnjMt65Dl"
   },
   "outputs": [],
   "source": [
    "maxlen = 1000\n",
    "\n",
    "# pad on train sequences\n",
    "x_train_pad_seq = pad_sequences(x_train_seq, maxlen=maxlen)"
   ]
  },
  {
   "cell_type": "code",
   "execution_count": 56,
   "metadata": {
    "executionInfo": {
     "elapsed": 3,
     "status": "ok",
     "timestamp": 1627739476031,
     "user": {
      "displayName": "Nella Kartheek",
      "photoUrl": "https://lh3.googleusercontent.com/a-/AOh14Gh5xJtK0npI1YA_guyIgSHCGwXFsMpmhWibCf7f=s64",
      "userId": "12980961804103110882"
     },
     "user_tz": -330
    },
    "id": "k8NhNQ-W65Dl"
   },
   "outputs": [],
   "source": [
    "# pad on test sequences\n",
    "x_test_pad_seq = pad_sequences(x_test_seq, maxlen=maxlen)"
   ]
  },
  {
   "cell_type": "code",
   "execution_count": 57,
   "metadata": {
    "executionInfo": {
     "elapsed": 3,
     "status": "ok",
     "timestamp": 1627739478149,
     "user": {
      "displayName": "Nella Kartheek",
      "photoUrl": "https://lh3.googleusercontent.com/a-/AOh14Gh5xJtK0npI1YA_guyIgSHCGwXFsMpmhWibCf7f=s64",
      "userId": "12980961804103110882"
     },
     "user_tz": -330
    },
    "id": "oxwkwpJm65Dl"
   },
   "outputs": [],
   "source": [
    "# function for loading vectors weights for each word\n",
    "\n",
    "def get_weight_matrix(model):\n",
    "    weight_matrix = np.zeros((vocab_size, vec_size))\n",
    "    for word, i in tokenizer.word_index.items():\n",
    "        weight_matrix[i] = model.wv.get_vector(word)\n",
    "    return weight_matrix"
   ]
  },
  {
   "cell_type": "code",
   "execution_count": 58,
   "metadata": {
    "executionInfo": {
     "elapsed": 2,
     "status": "ok",
     "timestamp": 1627739478149,
     "user": {
      "displayName": "Nella Kartheek",
      "photoUrl": "https://lh3.googleusercontent.com/a-/AOh14Gh5xJtK0npI1YA_guyIgSHCGwXFsMpmhWibCf7f=s64",
      "userId": "12980961804103110882"
     },
     "user_tz": -330
    },
    "id": "CFQdG32f65Dl"
   },
   "outputs": [],
   "source": [
    "embedding_vectors = get_weight_matrix(w2v_model)"
   ]
  },
  {
   "cell_type": "code",
   "execution_count": 59,
   "metadata": {
    "colab": {
     "base_uri": "https://localhost:8080/"
    },
    "executionInfo": {
     "elapsed": 2,
     "status": "ok",
     "timestamp": 1627739478521,
     "user": {
      "displayName": "Nella Kartheek",
      "photoUrl": "https://lh3.googleusercontent.com/a-/AOh14Gh5xJtK0npI1YA_guyIgSHCGwXFsMpmhWibCf7f=s64",
      "userId": "12980961804103110882"
     },
     "user_tz": -330
    },
    "id": "hgEtgn2_65Dl",
    "outputId": "a3d83e53-d5d5-4495-d8be-c18a86fd3c2c"
   },
   "outputs": [
    {
     "data": {
      "text/plain": [
       "(117090, 100)"
      ]
     },
     "execution_count": 59,
     "metadata": {
      "tags": []
     },
     "output_type": "execute_result"
    }
   ],
   "source": [
    "embedding_vectors.shape"
   ]
  },
  {
   "cell_type": "markdown",
   "metadata": {},
   "source": [
    "<a id=\"model\"></a>\n",
    "### Model Creation"
   ]
  },
  {
   "cell_type": "code",
   "execution_count": 60,
   "metadata": {
    "colab": {
     "base_uri": "https://localhost:8080/"
    },
    "executionInfo": {
     "elapsed": 735,
     "status": "ok",
     "timestamp": 1627739482977,
     "user": {
      "displayName": "Nella Kartheek",
      "photoUrl": "https://lh3.googleusercontent.com/a-/AOh14Gh5xJtK0npI1YA_guyIgSHCGwXFsMpmhWibCf7f=s64",
      "userId": "12980961804103110882"
     },
     "user_tz": -330
    },
    "id": "LT96Ti3t65Dl",
    "outputId": "daab16f8-bf68-4776-d514-d643bb6152e9"
   },
   "outputs": [
    {
     "name": "stdout",
     "output_type": "stream",
     "text": [
      "2.2.0\n"
     ]
    }
   ],
   "source": [
    "import tensorflow as tf\n",
    "print(tf.__version__)\n",
    "\n",
    "## we set the seed so that we receive the same random weights at each time we train the program\n",
    "tf.random.set_seed(1)"
   ]
  },
  {
   "cell_type": "code",
   "execution_count": null,
   "metadata": {
    "id": "i0kdsaET65Dm"
   },
   "outputs": [],
   "source": [
    "from tensorflow.keras.layers import Dense, Embedding, LSTM\n",
    "from tensorflow.keras.models import Sequential\n",
    "from tensorflow.keras.optimizers import Adam"
   ]
  },
  {
   "cell_type": "code",
   "execution_count": null,
   "metadata": {
    "id": "8MnrS34465Dm"
   },
   "outputs": [],
   "source": [
    "model = Sequential()\n",
    "model.add(Embedding(vocab_size, vec_size, weights=[embedding_vectors], input_length = maxlen, trainable=False))\n",
    "model.add(LSTM(units=128))\n",
    "model.add(Dense(1, activation='sigmoid'))"
   ]
  },
  {
   "cell_type": "code",
   "execution_count": null,
   "metadata": {
    "id": "EXQ7e5Gr65Dm"
   },
   "outputs": [],
   "source": [
    "model.compile(optimizer='adam', loss='binary_crossentropy', metrics=['accuracy'])"
   ]
  },
  {
   "cell_type": "code",
   "execution_count": null,
   "metadata": {
    "colab": {
     "base_uri": "https://localhost:8080/"
    },
    "executionInfo": {
     "elapsed": 10,
     "status": "ok",
     "timestamp": 1627659021950,
     "user": {
      "displayName": "Nella Kartheek",
      "photoUrl": "https://lh3.googleusercontent.com/a-/AOh14Gh5xJtK0npI1YA_guyIgSHCGwXFsMpmhWibCf7f=s64",
      "userId": "12980961804103110882"
     },
     "user_tz": -330
    },
    "id": "q3tHmvfJ65Dm",
    "outputId": "178353be-723d-4ff8-8e21-5c01d396fda5"
   },
   "outputs": [
    {
     "name": "stdout",
     "output_type": "stream",
     "text": [
      "Model: \"sequential\"\n",
      "_________________________________________________________________\n",
      "Layer (type)                 Output Shape              Param #   \n",
      "=================================================================\n",
      "embedding (Embedding)        (None, 1000, 100)         11709000  \n",
      "_________________________________________________________________\n",
      "lstm (LSTM)                  (None, 128)               117248    \n",
      "_________________________________________________________________\n",
      "dense (Dense)                (None, 1)                 129       \n",
      "=================================================================\n",
      "Total params: 11,826,377\n",
      "Trainable params: 117,377\n",
      "Non-trainable params: 11,709,000\n",
      "_________________________________________________________________\n"
     ]
    }
   ],
   "source": [
    "model.summary()"
   ]
  },
  {
   "cell_type": "code",
   "execution_count": null,
   "metadata": {
    "colab": {
     "base_uri": "https://localhost:8080/"
    },
    "executionInfo": {
     "elapsed": 612,
     "status": "ok",
     "timestamp": 1627659051185,
     "user": {
      "displayName": "Nella Kartheek",
      "photoUrl": "https://lh3.googleusercontent.com/a-/AOh14Gh5xJtK0npI1YA_guyIgSHCGwXFsMpmhWibCf7f=s64",
      "userId": "12980961804103110882"
     },
     "user_tz": -330
    },
    "id": "zRzSf2WL65Dm",
    "outputId": "a345b04b-c28f-417c-e37f-1151a6c006c3"
   },
   "outputs": [
    {
     "data": {
      "text/plain": [
       "10224.25"
      ]
     },
     "execution_count": 71,
     "metadata": {
      "tags": []
     },
     "output_type": "execute_result"
    }
   ],
   "source": [
    "y_train.shape[0]/4"
   ]
  },
  {
   "cell_type": "code",
   "execution_count": null,
   "metadata": {
    "id": "JvqRYI6_DJzW"
   },
   "outputs": [],
   "source": [
    "# implementing early stopping and model check point \n",
    "\n",
    "from tensorflow.keras.callbacks import EarlyStopping\n",
    "from tensorflow.keras.callbacks import ModelCheckpoint\n",
    "\n",
    "# stop training process if the accuracy of the train data is not decreased after 5 epochs\n",
    "es = EarlyStopping(monitor= \"accuracy\" , min_delta= 0, patience= 5, mode='max', verbose=1)\n",
    "\n",
    "# do not save the weights until and unless the validation accuracy is not increased.\n",
    "mc = ModelCheckpoint(filepath= \"Fake News Detection using LSTMs.h5\",\n",
    "                     monitor=\"val_accuracy\", verbose=1, save_best_only= True)"
   ]
  },
  {
   "cell_type": "code",
   "execution_count": null,
   "metadata": {
    "colab": {
     "base_uri": "https://localhost:8080/"
    },
    "executionInfo": {
     "elapsed": 2156602,
     "status": "ok",
     "timestamp": 1627666065121,
     "user": {
      "displayName": "Nella Kartheek",
      "photoUrl": "https://lh3.googleusercontent.com/a-/AOh14Gh5xJtK0npI1YA_guyIgSHCGwXFsMpmhWibCf7f=s64",
      "userId": "12980961804103110882"
     },
     "user_tz": -330
    },
    "id": "_C1nbXKf65Dn",
    "outputId": "e495f600-3329-421d-d7da-3940d69a90e0",
    "scrolled": true
   },
   "outputs": [
    {
     "name": "stdout",
     "output_type": "stream",
     "text": [
      "Epoch 1/20\n",
      "10225/10225 [==============================] - ETA: 0s - loss: 0.0821 - accuracy: 0.9714\n",
      "Epoch 00001: val_accuracy improved from -inf to 0.98725, saving model to Fake News Detection using LSTMs.h5\n",
      "10225/10225 [==============================] - 324s 32ms/step - loss: 0.0821 - accuracy: 0.9714 - val_loss: 0.0373 - val_accuracy: 0.9872\n",
      "Epoch 2/20\n",
      "10225/10225 [==============================] - ETA: 0s - loss: 0.0309 - accuracy: 0.9898\n",
      "Epoch 00002: val_accuracy improved from 0.98725 to 0.99350, saving model to Fake News Detection using LSTMs.h5\n",
      "10225/10225 [==============================] - 323s 32ms/step - loss: 0.0309 - accuracy: 0.9898 - val_loss: 0.0247 - val_accuracy: 0.9935\n",
      "Epoch 3/20\n",
      "10224/10225 [============================>.] - ETA: 0s - loss: 0.0250 - accuracy: 0.9922\n",
      "Epoch 00003: val_accuracy did not improve from 0.99350\n",
      "10225/10225 [==============================] - 324s 32ms/step - loss: 0.0250 - accuracy: 0.9922 - val_loss: 0.1319 - val_accuracy: 0.9467\n",
      "Epoch 4/20\n",
      "10225/10225 [==============================] - ETA: 0s - loss: 0.0188 - accuracy: 0.9941\n",
      "Epoch 00004: val_accuracy improved from 0.99350 to 0.99425, saving model to Fake News Detection using LSTMs.h5\n",
      "10225/10225 [==============================] - 323s 32ms/step - loss: 0.0188 - accuracy: 0.9941 - val_loss: 0.0200 - val_accuracy: 0.9942\n",
      "Epoch 5/20\n",
      "10225/10225 [==============================] - ETA: 0s - loss: 0.0178 - accuracy: 0.9939\n",
      "Epoch 00005: val_accuracy improved from 0.99425 to 0.99475, saving model to Fake News Detection using LSTMs.h5\n",
      "10225/10225 [==============================] - 323s 32ms/step - loss: 0.0178 - accuracy: 0.9939 - val_loss: 0.0136 - val_accuracy: 0.9948\n",
      "Epoch 6/20\n",
      "10225/10225 [==============================] - ETA: 0s - loss: 0.0129 - accuracy: 0.9959\n",
      "Epoch 00006: val_accuracy improved from 0.99475 to 0.99675, saving model to Fake News Detection using LSTMs.h5\n",
      "10225/10225 [==============================] - 323s 32ms/step - loss: 0.0129 - accuracy: 0.9959 - val_loss: 0.0125 - val_accuracy: 0.9967\n",
      "Epoch 7/20\n",
      "10225/10225 [==============================] - ETA: 0s - loss: 0.0113 - accuracy: 0.9966\n",
      "Epoch 00007: val_accuracy did not improve from 0.99675\n",
      "10225/10225 [==============================] - 323s 32ms/step - loss: 0.0113 - accuracy: 0.9966 - val_loss: 0.0113 - val_accuracy: 0.9967\n",
      "Epoch 8/20\n",
      "10225/10225 [==============================] - ETA: 0s - loss: 0.0089 - accuracy: 0.9971\n",
      "Epoch 00008: val_accuracy improved from 0.99675 to 0.99800, saving model to Fake News Detection using LSTMs.h5\n",
      "10225/10225 [==============================] - 324s 32ms/step - loss: 0.0089 - accuracy: 0.9971 - val_loss: 0.0087 - val_accuracy: 0.9980\n",
      "Epoch 9/20\n",
      "10225/10225 [==============================] - ETA: 0s - loss: 0.0082 - accuracy: 0.9970\n",
      "Epoch 00009: val_accuracy did not improve from 0.99800\n",
      "10225/10225 [==============================] - 323s 32ms/step - loss: 0.0082 - accuracy: 0.9970 - val_loss: 0.0076 - val_accuracy: 0.9973\n",
      "Epoch 10/20\n",
      "10225/10225 [==============================] - ETA: 0s - loss: 0.0093 - accuracy: 0.9968\n",
      "Epoch 00010: val_accuracy did not improve from 0.99800\n",
      "10225/10225 [==============================] - 324s 32ms/step - loss: 0.0093 - accuracy: 0.9968 - val_loss: 0.0090 - val_accuracy: 0.9967\n",
      "Epoch 11/20\n",
      "10225/10225 [==============================] - ETA: 0s - loss: 0.0094 - accuracy: 0.9969\n",
      "Epoch 00011: val_accuracy did not improve from 0.99800\n",
      "10225/10225 [==============================] - 324s 32ms/step - loss: 0.0094 - accuracy: 0.9969 - val_loss: 0.0107 - val_accuracy: 0.9973\n",
      "Epoch 12/20\n",
      "10225/10225 [==============================] - ETA: 0s - loss: 0.0079 - accuracy: 0.9978\n",
      "Epoch 00012: val_accuracy improved from 0.99800 to 0.99975, saving model to Fake News Detection using LSTMs.h5\n",
      "10225/10225 [==============================] - 324s 32ms/step - loss: 0.0079 - accuracy: 0.9978 - val_loss: 0.0019 - val_accuracy: 0.9998\n",
      "Epoch 13/20\n",
      "10224/10225 [============================>.] - ETA: 0s - loss: 0.0068 - accuracy: 0.9977\n",
      "Epoch 00013: val_accuracy did not improve from 0.99975\n",
      "10225/10225 [==============================] - 322s 31ms/step - loss: 0.0068 - accuracy: 0.9977 - val_loss: 0.0074 - val_accuracy: 0.9973\n",
      "Epoch 14/20\n",
      "10225/10225 [==============================] - ETA: 0s - loss: 0.0082 - accuracy: 0.9977\n",
      "Epoch 00014: val_accuracy did not improve from 0.99975\n",
      "10225/10225 [==============================] - 324s 32ms/step - loss: 0.0082 - accuracy: 0.9977 - val_loss: 0.0124 - val_accuracy: 0.9962\n",
      "Epoch 15/20\n",
      "10225/10225 [==============================] - ETA: 0s - loss: 0.0077 - accuracy: 0.9976\n",
      "Epoch 00015: val_accuracy did not improve from 0.99975\n",
      "10225/10225 [==============================] - 325s 32ms/step - loss: 0.0077 - accuracy: 0.9976 - val_loss: 0.0030 - val_accuracy: 0.9987\n",
      "Epoch 16/20\n",
      "10225/10225 [==============================] - ETA: 0s - loss: 0.0064 - accuracy: 0.9979\n",
      "Epoch 00016: val_accuracy did not improve from 0.99975\n",
      "10225/10225 [==============================] - 324s 32ms/step - loss: 0.0064 - accuracy: 0.9979 - val_loss: 0.0066 - val_accuracy: 0.9975\n",
      "Epoch 17/20\n",
      "10225/10225 [==============================] - ETA: 0s - loss: 0.0072 - accuracy: 0.9978\n",
      "Epoch 00017: val_accuracy did not improve from 0.99975\n",
      "10225/10225 [==============================] - 326s 32ms/step - loss: 0.0072 - accuracy: 0.9978 - val_loss: 0.0129 - val_accuracy: 0.9965\n",
      "Epoch 18/20\n",
      "10225/10225 [==============================] - ETA: 0s - loss: 0.0057 - accuracy: 0.9981\n",
      "Epoch 00018: val_accuracy did not improve from 0.99975\n",
      "10225/10225 [==============================] - 326s 32ms/step - loss: 0.0057 - accuracy: 0.9981 - val_loss: 0.0017 - val_accuracy: 0.9992\n",
      "Epoch 19/20\n",
      "10225/10225 [==============================] - ETA: 0s - loss: 0.0044 - accuracy: 0.9989\n",
      "Epoch 00019: val_accuracy did not improve from 0.99975\n",
      "10225/10225 [==============================] - 325s 32ms/step - loss: 0.0044 - accuracy: 0.9989 - val_loss: 0.0091 - val_accuracy: 0.9977\n",
      "Epoch 20/20\n",
      "10225/10225 [==============================] - ETA: 0s - loss: 0.0164 - accuracy: 0.9953\n",
      "Epoch 00020: val_accuracy did not improve from 0.99975\n",
      "10225/10225 [==============================] - 325s 32ms/step - loss: 0.0164 - accuracy: 0.9953 - val_loss: 0.0069 - val_accuracy: 0.9973\n"
     ]
    },
    {
     "data": {
      "text/plain": [
       "<tensorflow.python.keras.callbacks.History at 0x7f6c0017bed0>"
      ]
     },
     "execution_count": 74,
     "metadata": {
      "tags": []
     },
     "output_type": "execute_result"
    }
   ],
   "source": [
    "model.fit(x_train_pad_seq, y_train, validation_data=(x_test_pad_seq, y_test), batch_size=4, epochs=20, callbacks=[es,mc])"
   ]
  },
  {
   "cell_type": "markdown",
   "metadata": {
    "id": "v86FpBmg5qOK"
   },
   "source": [
    "<a id=\"load_model\"></a>\n",
    "### Load and Evaluate Model"
   ]
  },
  {
   "cell_type": "code",
   "execution_count": 67,
   "metadata": {
    "executionInfo": {
     "elapsed": 2691,
     "status": "ok",
     "timestamp": 1627739561422,
     "user": {
      "displayName": "Nella Kartheek",
      "photoUrl": "https://lh3.googleusercontent.com/a-/AOh14Gh5xJtK0npI1YA_guyIgSHCGwXFsMpmhWibCf7f=s64",
      "userId": "12980961804103110882"
     },
     "user_tz": -330
    },
    "id": "CGCgLcbo65Dn"
   },
   "outputs": [],
   "source": [
    "from tensorflow.keras.models import load_model\n",
    "Model = load_model('saved models/Fake News Detection using LSTMs.h5')"
   ]
  },
  {
   "cell_type": "code",
   "execution_count": 62,
   "metadata": {
    "colab": {
     "base_uri": "https://localhost:8080/"
    },
    "executionInfo": {
     "elapsed": 439304,
     "status": "ok",
     "timestamp": 1627740013230,
     "user": {
      "displayName": "Nella Kartheek",
      "photoUrl": "https://lh3.googleusercontent.com/a-/AOh14Gh5xJtK0npI1YA_guyIgSHCGwXFsMpmhWibCf7f=s64",
      "userId": "12980961804103110882"
     },
     "user_tz": -330
    },
    "id": "_e2wz6UIdn5H",
    "outputId": "a2ac2d60-222d-45b9-e824-fe72ef0a3a89"
   },
   "outputs": [
    {
     "name": "stdout",
     "output_type": "stream",
     "text": [
      "40897/40897 [==============================] - 433s 11ms/step - loss: 0.0042 - accuracy: 0.9987\n"
     ]
    },
    {
     "data": {
      "text/plain": [
       "[0.004191009793430567, 0.9987040758132935]"
      ]
     },
     "execution_count": 62,
     "metadata": {
      "tags": []
     },
     "output_type": "execute_result"
    }
   ],
   "source": [
    "## evaluation on train data\n",
    "\n",
    "Model.evaluate(x_train_pad_seq, y_train, batch_size=1)"
   ]
  },
  {
   "cell_type": "code",
   "execution_count": 63,
   "metadata": {
    "colab": {
     "base_uri": "https://localhost:8080/"
    },
    "executionInfo": {
     "elapsed": 43238,
     "status": "ok",
     "timestamp": 1627740057660,
     "user": {
      "displayName": "Nella Kartheek",
      "photoUrl": "https://lh3.googleusercontent.com/a-/AOh14Gh5xJtK0npI1YA_guyIgSHCGwXFsMpmhWibCf7f=s64",
      "userId": "12980961804103110882"
     },
     "user_tz": -330
    },
    "id": "B-GqeDjQd0h5",
    "outputId": "fcb0e1e0-a2c3-4ff7-8647-18e19d47eaf6"
   },
   "outputs": [
    {
     "name": "stdout",
     "output_type": "stream",
     "text": [
      "4000/4000 [==============================] - 43s 11ms/step - loss: 0.0019 - accuracy: 0.9998\n"
     ]
    },
    {
     "data": {
      "text/plain": [
       "[0.001918923924677074, 0.999750018119812]"
      ]
     },
     "execution_count": 63,
     "metadata": {
      "tags": []
     },
     "output_type": "execute_result"
    }
   ],
   "source": [
    "## evaluation on test data\n",
    "\n",
    "Model.evaluate(x_test_pad_seq, y_test, batch_size=1)"
   ]
  },
  {
   "cell_type": "code",
   "execution_count": 66,
   "metadata": {
    "executionInfo": {
     "elapsed": 720,
     "status": "ok",
     "timestamp": 1627740456386,
     "user": {
      "displayName": "Nella Kartheek",
      "photoUrl": "https://lh3.googleusercontent.com/a-/AOh14Gh5xJtK0npI1YA_guyIgSHCGwXFsMpmhWibCf7f=s64",
      "userId": "12980961804103110882"
     },
     "user_tz": -330
    },
    "id": "lA8gvnUM2_PV"
   },
   "outputs": [],
   "source": [
    "from sklearn.metrics import confusion_matrix, classification_report\n",
    "\n",
    "def MetricEvaluation(x_data, y_data):\n",
    "    y_pred = (Model.predict(x_data) > 0.5).astype('int')\n",
    "    print(\"Confusion Matrix::\\n{}\\n\\nClassification Report::\\n{}\".format(confusion_matrix(y_data, y_pred),\n",
    "                                                                       classification_report(y_data, y_pred)))"
   ]
  },
  {
   "cell_type": "code",
   "execution_count": 67,
   "metadata": {
    "colab": {
     "base_uri": "https://localhost:8080/"
    },
    "executionInfo": {
     "elapsed": 22943,
     "status": "ok",
     "timestamp": 1627740481375,
     "user": {
      "displayName": "Nella Kartheek",
      "photoUrl": "https://lh3.googleusercontent.com/a-/AOh14Gh5xJtK0npI1YA_guyIgSHCGwXFsMpmhWibCf7f=s64",
      "userId": "12980961804103110882"
     },
     "user_tz": -330
    },
    "id": "W68-0A1V4gAB",
    "outputId": "b6a43946-9fff-4e4f-c9b4-99bb03a3e9cb"
   },
   "outputs": [
    {
     "name": "stdout",
     "output_type": "stream",
     "text": [
      "Confusion Matrix::\n",
      "[[17388    28]\n",
      " [   25 23456]]\n",
      "\n",
      "Classification Report::\n",
      "              precision    recall  f1-score   support\n",
      "\n",
      "           0       1.00      1.00      1.00     17416\n",
      "           1       1.00      1.00      1.00     23481\n",
      "\n",
      "    accuracy                           1.00     40897\n",
      "   macro avg       1.00      1.00      1.00     40897\n",
      "weighted avg       1.00      1.00      1.00     40897\n",
      "\n"
     ]
    }
   ],
   "source": [
    "# Metric Evaluation for Train Data\n",
    "\n",
    "MetricEvaluation(x_train_pad_seq, y_train)"
   ]
  },
  {
   "cell_type": "code",
   "execution_count": 68,
   "metadata": {
    "colab": {
     "base_uri": "https://localhost:8080/"
    },
    "executionInfo": {
     "elapsed": 2740,
     "status": "ok",
     "timestamp": 1627740508671,
     "user": {
      "displayName": "Nella Kartheek",
      "photoUrl": "https://lh3.googleusercontent.com/a-/AOh14Gh5xJtK0npI1YA_guyIgSHCGwXFsMpmhWibCf7f=s64",
      "userId": "12980961804103110882"
     },
     "user_tz": -330
    },
    "id": "dlx4Klbr42tT",
    "outputId": "76cdc5b5-6b4f-4446-9a4e-c34419f21460"
   },
   "outputs": [
    {
     "name": "stdout",
     "output_type": "stream",
     "text": [
      "Confusion Matrix::\n",
      "[[1999    1]\n",
      " [   0 2000]]\n",
      "\n",
      "Classification Report::\n",
      "              precision    recall  f1-score   support\n",
      "\n",
      "           0       1.00      1.00      1.00      2000\n",
      "           1       1.00      1.00      1.00      2000\n",
      "\n",
      "    accuracy                           1.00      4000\n",
      "   macro avg       1.00      1.00      1.00      4000\n",
      "weighted avg       1.00      1.00      1.00      4000\n",
      "\n"
     ]
    }
   ],
   "source": [
    "# Metric Evaluation for Test Data\n",
    "\n",
    "MetricEvaluation(x_test_pad_seq, y_test)"
   ]
  },
  {
   "cell_type": "markdown",
   "metadata": {
    "id": "1XoOemKt518z"
   },
   "source": [
    "<a id=\"pred\"></a>\n",
    "### Predicting New Data\n",
    "* **Fake = 1**\n",
    "* **Real = 0**"
   ]
  },
  {
   "cell_type": "code",
   "execution_count": 71,
   "metadata": {
    "executionInfo": {
     "elapsed": 565,
     "status": "ok",
     "timestamp": 1627741323504,
     "user": {
      "displayName": "Nella Kartheek",
      "photoUrl": "https://lh3.googleusercontent.com/a-/AOh14Gh5xJtK0npI1YA_guyIgSHCGwXFsMpmhWibCf7f=s64",
      "userId": "12980961804103110882"
     },
     "user_tz": -330
    },
    "id": "yN-svodp6KQI"
   },
   "outputs": [],
   "source": [
    "def getPrediction(x):\n",
    "    x = DataCleaner(x)\n",
    "    x = tokenizer.texts_to_sequences([x])\n",
    "    x = pad_sequences(x, maxlen= maxlen)\n",
    "    output = Model.predict(x) > 0.5\n",
    "    if output:\n",
    "        return \"Fake\"\n",
    "    else:\n",
    "        return \"Real\""
   ]
  },
  {
   "cell_type": "code",
   "execution_count": 71,
   "metadata": {
    "colab": {
     "base_uri": "https://localhost:8080/"
    },
    "executionInfo": {
     "elapsed": 467,
     "status": "ok",
     "timestamp": 1627741447719,
     "user": {
      "displayName": "Nella Kartheek",
      "photoUrl": "https://lh3.googleusercontent.com/a-/AOh14Gh5xJtK0npI1YA_guyIgSHCGwXFsMpmhWibCf7f=s64",
      "userId": "12980961804103110882"
     },
     "user_tz": -330
    },
    "id": "zg7_kvx18XxA",
    "outputId": "db7a2bc7-1bd1-4de4-e34f-70abdbf74c22"
   },
   "outputs": [
    {
     "name": "stdout",
     "output_type": "stream",
     "text": [
      "This sentence is Fake.\n"
     ]
    }
   ],
   "source": [
    "# example for fake sentence (Just given some random text manually)\n",
    "\n",
    "text = \"I provided some text here\"\n",
    "print(\"This sentence is {}.\".format(getPrediction(text)))"
   ]
  },
  {
   "cell_type": "code",
   "execution_count": 72,
   "metadata": {
    "colab": {
     "base_uri": "https://localhost:8080/"
    },
    "executionInfo": {
     "elapsed": 425,
     "status": "ok",
     "timestamp": 1627741696960,
     "user": {
      "displayName": "Nella Kartheek",
      "photoUrl": "https://lh3.googleusercontent.com/a-/AOh14Gh5xJtK0npI1YA_guyIgSHCGwXFsMpmhWibCf7f=s64",
      "userId": "12980961804103110882"
     },
     "user_tz": -330
    },
    "id": "C0qylbzi8tR3",
    "outputId": "430c3632-1057-4c95-980e-e61873ae00d1"
   },
   "outputs": [
    {
     "name": "stdout",
     "output_type": "stream",
     "text": [
      "This sentence is Real.\n"
     ]
    }
   ],
   "source": [
    "# example for Real sentence (Data collected from online Resources)\n",
    "\n",
    "text = \"On Tuesday, Sir Patrick Vallance, the UK's Chief Scientific Officer, posted a correction about a statistic he had referred to during a press conference the day before.\"\n",
    "print(\"This sentence is {}.\".format(getPrediction(text)))"
   ]
  },
  {
   "cell_type": "code",
   "execution_count": null,
   "metadata": {},
   "outputs": [],
   "source": []
  }
 ],
 "metadata": {
  "accelerator": "GPU",
  "colab": {
   "name": "Fake News Detection System.ipynb",
   "provenance": []
  },
  "kernelspec": {
   "display_name": "Python 3",
   "language": "python",
   "name": "python3"
  },
  "language_info": {
   "codemirror_mode": {
    "name": "ipython",
    "version": 3
   },
   "file_extension": ".py",
   "mimetype": "text/x-python",
   "name": "python",
   "nbconvert_exporter": "python",
   "pygments_lexer": "ipython3",
   "version": "3.8.5"
  }
 },
 "nbformat": 4,
 "nbformat_minor": 1
}
